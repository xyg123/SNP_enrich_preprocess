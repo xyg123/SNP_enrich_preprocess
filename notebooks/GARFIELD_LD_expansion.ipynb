{
 "cells": [
  {
   "cell_type": "code",
   "execution_count": 1,
   "metadata": {},
   "outputs": [],
   "source": [
    "import pandas as pd\n",
    "import os\n",
    "import sys\n",
    "#import fastparquet\n",
    "import numpy as np\n",
    "#import tabix\n",
    "\n",
    "from subprocess import Popen, PIPE\n",
    "\n",
    "import gzip\n",
    "from pybedtools import BedTool"
   ]
  },
  {
   "cell_type": "code",
   "execution_count": 2,
   "metadata": {},
   "outputs": [],
   "source": [
    "#Input_sumstats=pd.read_parquet(\"/Users/xg1/Downloads/ldsc/input_sumstats/GCST005536.parquet\")\n",
    "#Input_sumstats.head()\n",
    "from collections import OrderedDict\n",
    "\n",
    "def Garfield_Prep_Pval(input_sumstat_path, out_path, to_expand_path):\n",
    "    Input_sumstats=pd.read_parquet(input_sumstat_path, engine=\"pyarrow\")\n",
    "    for i in range(1, 23):\n",
    "        Sumstats_bychr=Input_sumstats.loc[Input_sumstats['chrom'] == str(i)][[\"pos\", \"pval\"]]\n",
    "        Sumstats_bychr.to_csv(out_path+\"chr\"+str(i), sep=\"\\t\", index=False, header=None)\n",
    "\n",
    "        To_expand=Input_sumstats.loc[Input_sumstats['chrom'] == str(i)][[\"chrom\", \"pos\"]]\n",
    "        To_expand['chrom']=\"chr\"+To_expand['chrom']\n",
    "        To_expand[\"SNP\"]=To_expand.apply(lambda x: x['chrom']+\"_\"+str(x['pos']), axis=1)\n",
    "        cols = OrderedDict([\n",
    "        ('chrom', 'Chrom'),\n",
    "        ('SNP', 'SNP'),\n",
    "        ('pos', 'BP')\n",
    "        ])\n",
    "        To_expand=To_expand.loc[:, list(cols.keys())].rename(columns=cols)\n",
    "        To_expand.to_csv(to_expand_path+\"chr\"+str(i), sep=\"\\t\", index=False)\n",
    "\n",
    "#lo=LiftOver(\"hg38\", \"hg19\")\n",
    "\n",
    "def Garfield_Prep_Pval_and_LO(input_sumstat_path, out_path, to_expand_path):\n",
    "    Input_sumstats=pd.read_parquet(input_sumstat_path, engine=\"pyarrow\")\n",
    "    for i in range(1, 23):\n",
    "        Sumstats_bychr=Input_sumstats.loc[Input_sumstats['chrom'] == str(i)][[\"pos\", \"pval\"]]\n",
    "        Sumstats_bychr.to_csv(out_path+\"chr\"+str(i), sep=\"\\t\", index=False, header=None)\n",
    "\n",
    "\n",
    "Garfield_Prep_Pval(\"/Users/xg1/Downloads/ldsc/input_sumstats/GCST005536.parquet\", \"/Users/xg1/Downloads/garfield-data/pval/T1D/\", \"/Users/xg1/Downloads/garfield-data/sumstats_bychr/T1D/\")\n",
    "\n"
   ]
  },
  {
   "cell_type": "code",
   "execution_count": 3,
   "metadata": {},
   "outputs": [],
   "source": [
    "import gzip\n",
    "from pybedtools import BedTool\n",
    "\n",
    "def Garfield_make_annot(input_sumstat_path, out_path, to_expand_path, bed_for_annot):\n",
    "    Input_sumstats=pd.read_parquet(input_sumstat_path, engine=\"pyarrow\")\n",
    "    for i in range(1, 3):\n",
    "        Sumstats_bychr=Input_sumstats.loc[Input_sumstats['chrom'] == str(i)][[\"pos\", \"pval\"]]\n",
    "    #    Sumstats_bychr.to_csv(out_path+\"chr\"+str(i), sep=\"\\t\", index=False, header=None)\n",
    "\n",
    "        To_expand=Input_sumstats.loc[Input_sumstats['chrom'] == str(i)][[\"chrom\", \"pos\"]]\n",
    "        To_expand['chrom']=\"chr\"+To_expand['chrom']\n",
    "        To_expand[\"SNP\"]=To_expand.apply(lambda x: x['chrom']+\"_\"+str(x['pos']), axis=1)\n",
    "        cols = OrderedDict([\n",
    "        ('chrom', 'Chrom'),\n",
    "        ('SNP', 'SNP'),\n",
    "        ('pos', 'BP')\n",
    "        ])\n",
    "        To_expand=To_expand.loc[:, list(cols.keys())].rename(columns=cols)\n",
    "    #    To_expand.to_csv(to_expand_path+\"chr\"+str(i), sep=\"\\t\", index=False)\n",
    "\n",
    "        To_overlap=To_expand[['Chrom', 'BP']]\n",
    "        To_overlap['start']=To_overlap['BP']-1\n",
    "        To_overlap=To_overlap[['Chrom', 'start', 'BP']]\n",
    "\n",
    "        SNP_bed=BedTool.from_dataframe(To_overlap)\n",
    "        Annot_bed=BedTool(bed_for_annot)\n",
    "\n",
    "        annot_out=SNP_bed.intersect(Annot_bed)\n",
    "        bp=[x.start + 1 for x in annot_out]\n",
    "        df_int=pd.DataFrame({'BP': bp, 'ANNOT': 1})\n",
    "        df_annot=pd.merge(To_expand, df_int, how=\"left\", on='BP')\n",
    "        df_annot.fillna(0, inplace=True)\n",
    "\n",
    "        \n",
    "\n",
    "        return(df_annot)\n",
    "\n",
    "#/Users/xg1/Downloads/ldsc/Comparison_enhancers/BSS00079.bed\n",
    "\n"
   ]
  },
  {
   "cell_type": "code",
   "execution_count": 34,
   "metadata": {},
   "outputs": [],
   "source": [
    "abc=Garfield_make_annot(\"/Users/xg1/Downloads/ldsc/input_sumstats/GCST005536.parquet\", \n",
    "    \"/Users/xg1/Downloads/garfield-data/pval/T1D/\", \"/Users/xg1/Downloads/garfield-data/sumstats_bychr/T1D/\",\n",
    "    \"/Users/xg1/Downloads/ldsc/Comparison_enhancers/test_enhancer.bed\")\n",
    "\n",
    "print(abc)"
   ]
  },
  {
   "cell_type": "code",
   "execution_count": 4,
   "metadata": {},
   "outputs": [],
   "source": [
    "#for file in os.listdir(\"/Users/xg1/Downloads/ldsc/Comparison_enhancers/\"):\n",
    "#    print(file)\n",
    "\n",
    "def Garfield_make_annot(input_sumstat_path, out_path, to_expand_path, bed_for_annot_dir):\n",
    "    Input_sumstats=pd.read_parquet(input_sumstat_path, engine=\"pyarrow\")\n",
    "    \n",
    "    for i in range(21, 23):\n",
    "        Sumstats_bychr=Input_sumstats.loc[Input_sumstats['chrom'] == str(i)][[\"pos\", \"pval\"]]\n",
    "    #    Sumstats_bychr.to_csv(out_path+\"chr\"+str(i), sep=\"\\t\", index=False, header=None)\n",
    "\n",
    "        To_expand=Input_sumstats.loc[Input_sumstats['chrom'] == str(i)][[\"chrom\", \"pos\"]]\n",
    "        To_expand['chrom']=\"chr\"+To_expand['chrom']\n",
    "        To_expand[\"SNP\"]=To_expand.apply(lambda x: x['chrom']+\"_\"+str(x['pos']), axis=1)\n",
    "        cols = OrderedDict([\n",
    "        ('chrom', 'Chrom'),\n",
    "        ('SNP', 'SNP'),\n",
    "        ('pos', 'BP')\n",
    "        ])\n",
    "        To_expand=To_expand.loc[:, list(cols.keys())].rename(columns=cols)\n",
    "    #    To_expand.to_csv(to_expand_path+\"chr\"+str(i), sep=\"\\t\", index=False)\n",
    "\n",
    "        To_overlap=To_expand[['Chrom', 'BP']]\n",
    "        To_overlap['start']=To_overlap['BP']-1\n",
    "        To_overlap=To_overlap[['Chrom', 'start', 'BP']]\n",
    "\n",
    "        Annot_out=To_overlap['BP']\n",
    "\n",
    "        SNP_bed=BedTool.from_dataframe(To_overlap)\n",
    "        for bed_for_annot in os.listdir(bed_for_annot_dir):\n",
    "            Annot_bed=BedTool(bed_for_annot_dir+bed_for_annot)\n",
    "\n",
    "            SNP_intersect=SNP_bed.intersect(Annot_bed)\n",
    "            bp=[x.start + 1 for x in SNP_intersect]\n",
    "            df_int=pd.DataFrame({'BP': bp, bed_for_annot: int(1)})\n",
    "            Annot_out=pd.merge(Annot_out, df_int, how=\"left\", on='BP')\n",
    "            Annot_out.fillna(0, inplace=True)\n",
    "\n",
    "        Annot_out=Annot_out.astype(int)\n",
    "        Annot_out['annotations']=Annot_out.iloc[:,1:].apply(lambda row: \"\".join(row.values.astype(str)), axis=1)\n",
    "        Annot_out=Annot_out[['BP', 'annotations']]\n",
    "\n",
    "        return(Annot_out)\n"
   ]
  },
  {
   "cell_type": "code",
   "execution_count": 5,
   "metadata": {},
   "outputs": [],
   "source": [
    "import time\n",
    "def Garfield_annot_UK10K(input_SNP_path, out_path, bed_for_annot_dir):\n",
    "    for i in range(1, 23):\n",
    "        start_time=time.time()\n",
    "\n",
    "        Input_SNPs=pd.read_csv(input_SNP_path+\"chr\"+str(i), names=[\"BP\", \"MAF\", \"TSS\"], sep=\" \")\n",
    "        Input_SNPs['Chrom']=\"chr\"+str(i)\n",
    "\n",
    "        To_overlap=Input_SNPs[['Chrom', 'BP']]\n",
    "        To_overlap['start']=To_overlap['BP'].astype(int)-1\n",
    "        To_overlap=To_overlap[['Chrom', 'start', 'BP']]\n",
    "\n",
    "        Annot_out=To_overlap['BP']\n",
    "\n",
    "        SNP_bed=BedTool.from_dataframe(To_overlap)\n",
    "        for bed_for_annot in os.listdir(bed_for_annot_dir):\n",
    "            Annot_bed=BedTool(bed_for_annot_dir+bed_for_annot)\n",
    "\n",
    "            SNP_intersect=SNP_bed.intersect(Annot_bed)\n",
    "            bp=[x.start + 1 for x in SNP_intersect]\n",
    "            df_int=pd.DataFrame({'BP': bp, bed_for_annot: int(1)})\n",
    "            Annot_out=pd.merge(Annot_out, df_int, how=\"left\", on='BP')\n",
    "            Annot_out.fillna(0, inplace=True)\n",
    "\n",
    "        Annot_out=Annot_out.astype(int)\n",
    "        Annot_out['annotations']=Annot_out.iloc[:,1:].apply(lambda row: \"\".join(row.values.astype(str)), axis=1)\n",
    "        Annot_out=Annot_out[['BP', 'annotations']]\n",
    "        Annot_out.to_csv(out_path+\"chr\"+str(i), sep=\" \", header=None, index=False)\n",
    "        print(\"finished chr\"+str(i)+\" in \"+str(time.time()-start_time)+\" seconds!\")\n",
    "        #return(Annot_out)"
   ]
  },
  {
   "cell_type": "code",
   "execution_count": null,
   "metadata": {},
   "outputs": [
    {
     "ename": "Error",
     "evalue": "Session cannot generate requests",
     "output_type": "error",
     "traceback": [
      "Error: Session cannot generate requests",
      "at w.executeCodeCell (/Users/xg1/.vscode/extensions/ms-toolsai.jupyter-2021.5.745244803/out/client/extension.js:49:635493)",
      "at w.execute (/Users/xg1/.vscode/extensions/ms-toolsai.jupyter-2021.5.745244803/out/client/extension.js:49:634882)",
      "at w.start (/Users/xg1/.vscode/extensions/ms-toolsai.jupyter-2021.5.745244803/out/client/extension.js:49:629791)",
      "at runMicrotasks (<anonymous>)",
      "at processTicksAndRejections (internal/process/task_queues.js:97:5)",
      "at async t.CellExecutionQueue.executeQueuedCells (/Users/xg1/.vscode/extensions/ms-toolsai.jupyter-2021.5.745244803/out/client/extension.js:49:644977)",
      "at async t.CellExecutionQueue.start (/Users/xg1/.vscode/extensions/ms-toolsai.jupyter-2021.5.745244803/out/client/extension.js:49:644517)"
     ]
    }
   ],
   "source": [
    "Garfield_annot_UK10K(\"/Users/xg1/Downloads/garfield-data/maftssd/\", \n",
    "    \"/Users/xg1/Downloads/garfield-data/Comparison_annotations/\",\n",
    "    \"/Users/xg1/Downloads/ldsc/Comparison_enhancers/\")"
   ]
  },
  {
   "cell_type": "code",
   "execution_count": 63,
   "metadata": {},
   "outputs": [
    {
     "data": {
      "text/html": "<div>\n<style scoped>\n    .dataframe tbody tr th:only-of-type {\n        vertical-align: middle;\n    }\n\n    .dataframe tbody tr th {\n        vertical-align: top;\n    }\n\n    .dataframe thead th {\n        text-align: right;\n    }\n</style>\n<table border=\"1\" class=\"dataframe\">\n  <thead>\n    <tr style=\"text-align: right;\">\n      <th></th>\n      <th>BP</th>\n      <th>BSS00206.bed</th>\n      <th>BSS00207.bed</th>\n      <th>BSS00228.bed</th>\n      <th>BSS00189.bed</th>\n      <th>BSS00188.bed</th>\n      <th>BSS01068.bed</th>\n      <th>BSS01120.bed</th>\n      <th>BSS00511.bed</th>\n      <th>BSS01169.bed</th>\n      <th>...</th>\n      <th>BSS01071.bed</th>\n      <th>BSS01714.bed</th>\n      <th>BSS01113.bed</th>\n      <th>BSS01665.bed</th>\n      <th>BSS00234.bed</th>\n      <th>BSS01666.bed</th>\n      <th>BSS01712.bed</th>\n      <th>BSS00197.bed</th>\n      <th>test_enhancer.bed</th>\n      <th>BSS00196.bed</th>\n    </tr>\n  </thead>\n  <tbody>\n    <tr>\n      <th>0</th>\n      <td>14022866</td>\n      <td>0</td>\n      <td>0</td>\n      <td>0</td>\n      <td>0</td>\n      <td>0</td>\n      <td>0</td>\n      <td>0</td>\n      <td>0</td>\n      <td>0</td>\n      <td>...</td>\n      <td>0</td>\n      <td>0</td>\n      <td>0</td>\n      <td>0</td>\n      <td>0</td>\n      <td>0</td>\n      <td>0</td>\n      <td>0</td>\n      <td>0</td>\n      <td>0</td>\n    </tr>\n    <tr>\n      <th>1</th>\n      <td>14144009</td>\n      <td>0</td>\n      <td>0</td>\n      <td>0</td>\n      <td>0</td>\n      <td>0</td>\n      <td>0</td>\n      <td>0</td>\n      <td>0</td>\n      <td>0</td>\n      <td>...</td>\n      <td>0</td>\n      <td>0</td>\n      <td>0</td>\n      <td>0</td>\n      <td>0</td>\n      <td>0</td>\n      <td>0</td>\n      <td>0</td>\n      <td>0</td>\n      <td>0</td>\n    </tr>\n    <tr>\n      <th>2</th>\n      <td>14145782</td>\n      <td>0</td>\n      <td>0</td>\n      <td>0</td>\n      <td>0</td>\n      <td>0</td>\n      <td>0</td>\n      <td>0</td>\n      <td>0</td>\n      <td>0</td>\n      <td>...</td>\n      <td>0</td>\n      <td>0</td>\n      <td>0</td>\n      <td>0</td>\n      <td>0</td>\n      <td>0</td>\n      <td>0</td>\n      <td>0</td>\n      <td>0</td>\n      <td>0</td>\n    </tr>\n    <tr>\n      <th>3</th>\n      <td>14173679</td>\n      <td>0</td>\n      <td>0</td>\n      <td>0</td>\n      <td>0</td>\n      <td>0</td>\n      <td>0</td>\n      <td>0</td>\n      <td>0</td>\n      <td>0</td>\n      <td>...</td>\n      <td>0</td>\n      <td>0</td>\n      <td>0</td>\n      <td>0</td>\n      <td>0</td>\n      <td>0</td>\n      <td>0</td>\n      <td>0</td>\n      <td>0</td>\n      <td>0</td>\n    </tr>\n    <tr>\n      <th>4</th>\n      <td>14176477</td>\n      <td>0</td>\n      <td>0</td>\n      <td>0</td>\n      <td>0</td>\n      <td>0</td>\n      <td>0</td>\n      <td>0</td>\n      <td>0</td>\n      <td>0</td>\n      <td>...</td>\n      <td>0</td>\n      <td>0</td>\n      <td>0</td>\n      <td>0</td>\n      <td>0</td>\n      <td>0</td>\n      <td>0</td>\n      <td>0</td>\n      <td>0</td>\n      <td>0</td>\n    </tr>\n    <tr>\n      <th>...</th>\n      <td>...</td>\n      <td>...</td>\n      <td>...</td>\n      <td>...</td>\n      <td>...</td>\n      <td>...</td>\n      <td>...</td>\n      <td>...</td>\n      <td>...</td>\n      <td>...</td>\n      <td>...</td>\n      <td>...</td>\n      <td>...</td>\n      <td>...</td>\n      <td>...</td>\n      <td>...</td>\n      <td>...</td>\n      <td>...</td>\n      <td>...</td>\n      <td>...</td>\n      <td>...</td>\n    </tr>\n    <tr>\n      <th>3010</th>\n      <td>46380677</td>\n      <td>0</td>\n      <td>0</td>\n      <td>0</td>\n      <td>0</td>\n      <td>0</td>\n      <td>0</td>\n      <td>0</td>\n      <td>0</td>\n      <td>0</td>\n      <td>...</td>\n      <td>0</td>\n      <td>0</td>\n      <td>0</td>\n      <td>0</td>\n      <td>0</td>\n      <td>0</td>\n      <td>0</td>\n      <td>0</td>\n      <td>0</td>\n      <td>0</td>\n    </tr>\n    <tr>\n      <th>3011</th>\n      <td>46534814</td>\n      <td>0</td>\n      <td>0</td>\n      <td>0</td>\n      <td>0</td>\n      <td>0</td>\n      <td>0</td>\n      <td>0</td>\n      <td>0</td>\n      <td>0</td>\n      <td>...</td>\n      <td>0</td>\n      <td>0</td>\n      <td>0</td>\n      <td>0</td>\n      <td>0</td>\n      <td>0</td>\n      <td>0</td>\n      <td>0</td>\n      <td>0</td>\n      <td>0</td>\n    </tr>\n    <tr>\n      <th>3012</th>\n      <td>46550668</td>\n      <td>0</td>\n      <td>1</td>\n      <td>0</td>\n      <td>0</td>\n      <td>0</td>\n      <td>0</td>\n      <td>1</td>\n      <td>0</td>\n      <td>1</td>\n      <td>...</td>\n      <td>0</td>\n      <td>0</td>\n      <td>0</td>\n      <td>0</td>\n      <td>0</td>\n      <td>1</td>\n      <td>0</td>\n      <td>0</td>\n      <td>1</td>\n      <td>0</td>\n    </tr>\n    <tr>\n      <th>3013</th>\n      <td>46564886</td>\n      <td>0</td>\n      <td>0</td>\n      <td>0</td>\n      <td>0</td>\n      <td>0</td>\n      <td>0</td>\n      <td>0</td>\n      <td>0</td>\n      <td>0</td>\n      <td>...</td>\n      <td>0</td>\n      <td>0</td>\n      <td>0</td>\n      <td>0</td>\n      <td>0</td>\n      <td>0</td>\n      <td>0</td>\n      <td>0</td>\n      <td>0</td>\n      <td>0</td>\n    </tr>\n    <tr>\n      <th>3014</th>\n      <td>46595773</td>\n      <td>0</td>\n      <td>0</td>\n      <td>0</td>\n      <td>0</td>\n      <td>0</td>\n      <td>0</td>\n      <td>0</td>\n      <td>0</td>\n      <td>0</td>\n      <td>...</td>\n      <td>0</td>\n      <td>0</td>\n      <td>0</td>\n      <td>0</td>\n      <td>0</td>\n      <td>0</td>\n      <td>0</td>\n      <td>0</td>\n      <td>0</td>\n      <td>0</td>\n    </tr>\n  </tbody>\n</table>\n<p>3015 rows × 29 columns</p>\n</div>",
      "text/plain": "            BP  BSS00206.bed  BSS00207.bed  BSS00228.bed  BSS00189.bed  \\\n0     14022866             0             0             0             0   \n1     14144009             0             0             0             0   \n2     14145782             0             0             0             0   \n3     14173679             0             0             0             0   \n4     14176477             0             0             0             0   \n...        ...           ...           ...           ...           ...   \n3010  46380677             0             0             0             0   \n3011  46534814             0             0             0             0   \n3012  46550668             0             1             0             0   \n3013  46564886             0             0             0             0   \n3014  46595773             0             0             0             0   \n\n      BSS00188.bed  BSS01068.bed  BSS01120.bed  BSS00511.bed  BSS01169.bed  \\\n0                0             0             0             0             0   \n1                0             0             0             0             0   \n2                0             0             0             0             0   \n3                0             0             0             0             0   \n4                0             0             0             0             0   \n...            ...           ...           ...           ...           ...   \n3010             0             0             0             0             0   \n3011             0             0             0             0             0   \n3012             0             0             1             0             1   \n3013             0             0             0             0             0   \n3014             0             0             0             0             0   \n\n      ...  BSS01071.bed  BSS01714.bed  BSS01113.bed  BSS01665.bed  \\\n0     ...             0             0             0             0   \n1     ...             0             0             0             0   \n2     ...             0             0             0             0   \n3     ...             0             0             0             0   \n4     ...             0             0             0             0   \n...   ...           ...           ...           ...           ...   \n3010  ...             0             0             0             0   \n3011  ...             0             0             0             0   \n3012  ...             0             0             0             0   \n3013  ...             0             0             0             0   \n3014  ...             0             0             0             0   \n\n      BSS00234.bed  BSS01666.bed  BSS01712.bed  BSS00197.bed  \\\n0                0             0             0             0   \n1                0             0             0             0   \n2                0             0             0             0   \n3                0             0             0             0   \n4                0             0             0             0   \n...            ...           ...           ...           ...   \n3010             0             0             0             0   \n3011             0             0             0             0   \n3012             0             1             0             0   \n3013             0             0             0             0   \n3014             0             0             0             0   \n\n      test_enhancer.bed  BSS00196.bed  \n0                     0             0  \n1                     0             0  \n2                     0             0  \n3                     0             0  \n4                     0             0  \n...                 ...           ...  \n3010                  0             0  \n3011                  0             0  \n3012                  1             0  \n3013                  0             0  \n3014                  0             0  \n\n[3015 rows x 29 columns]"
     },
     "execution_count": 63,
     "metadata": {},
     "output_type": "execute_result"
    }
   ],
   "source": [
    "#df_new=abc.iloc[:,1:].apply(lambda row: \"\".join(row.values.round().astype(str)), axis=1)\n",
    "#print(df_new)\n",
    "abc.astype(int)"
   ]
  },
  {
   "cell_type": "code",
   "execution_count": 17,
   "metadata": {},
   "outputs": [
    {
     "data": {
      "text/html": "<div>\n<style scoped>\n    .dataframe tbody tr th:only-of-type {\n        vertical-align: middle;\n    }\n\n    .dataframe tbody tr th {\n        vertical-align: top;\n    }\n\n    .dataframe thead th {\n        text-align: right;\n    }\n</style>\n<table border=\"1\" class=\"dataframe\">\n  <thead>\n    <tr style=\"text-align: right;\">\n      <th></th>\n      <th>type</th>\n      <th>study_id</th>\n      <th>phenotype_id</th>\n      <th>bio_feature</th>\n      <th>gene_id</th>\n      <th>chrom</th>\n      <th>pos</th>\n      <th>ref</th>\n      <th>alt</th>\n      <th>beta</th>\n      <th>se</th>\n      <th>pval</th>\n      <th>n_total</th>\n      <th>n_cases</th>\n      <th>eaf</th>\n      <th>mac</th>\n      <th>mac_cases</th>\n      <th>info</th>\n      <th>is_cc</th>\n    </tr>\n  </thead>\n  <tbody>\n    <tr>\n      <th>0</th>\n      <td>gwas</td>\n      <td>GCST005536</td>\n      <td>None</td>\n      <td>None</td>\n      <td>None</td>\n      <td>1</td>\n      <td>1182895</td>\n      <td>C</td>\n      <td>T</td>\n      <td>-0.073001</td>\n      <td>0.045001</td>\n      <td>0.104756</td>\n      <td>18856</td>\n      <td>6683</td>\n      <td>0.042950</td>\n      <td>1619.729175</td>\n      <td>574.069266</td>\n      <td>NaN</td>\n      <td>True</td>\n    </tr>\n    <tr>\n      <th>1</th>\n      <td>gwas</td>\n      <td>GCST005536</td>\n      <td>None</td>\n      <td>None</td>\n      <td>None</td>\n      <td>1</td>\n      <td>1199862</td>\n      <td>A</td>\n      <td>C</td>\n      <td>-0.038949</td>\n      <td>0.020973</td>\n      <td>0.063291</td>\n      <td>18856</td>\n      <td>6683</td>\n      <td>0.278139</td>\n      <td>10489.186727</td>\n      <td>3717.608979</td>\n      <td>NaN</td>\n      <td>True</td>\n    </tr>\n    <tr>\n      <th>2</th>\n      <td>gwas</td>\n      <td>GCST005536</td>\n      <td>None</td>\n      <td>None</td>\n      <td>None</td>\n      <td>1</td>\n      <td>1205055</td>\n      <td>G</td>\n      <td>T</td>\n      <td>-0.027988</td>\n      <td>0.019992</td>\n      <td>0.161513</td>\n      <td>18856</td>\n      <td>6683</td>\n      <td>0.329919</td>\n      <td>12441.909186</td>\n      <td>4409.698721</td>\n      <td>NaN</td>\n      <td>True</td>\n    </tr>\n    <tr>\n      <th>3</th>\n      <td>gwas</td>\n      <td>GCST005536</td>\n      <td>None</td>\n      <td>None</td>\n      <td>None</td>\n      <td>1</td>\n      <td>1228424</td>\n      <td>C</td>\n      <td>T</td>\n      <td>-0.050031</td>\n      <td>0.026017</td>\n      <td>0.054470</td>\n      <td>18856</td>\n      <td>6683</td>\n      <td>0.155267</td>\n      <td>5855.413264</td>\n      <td>2075.293108</td>\n      <td>NaN</td>\n      <td>True</td>\n    </tr>\n    <tr>\n      <th>4</th>\n      <td>gwas</td>\n      <td>GCST005536</td>\n      <td>None</td>\n      <td>None</td>\n      <td>None</td>\n      <td>1</td>\n      <td>1229930</td>\n      <td>G</td>\n      <td>A</td>\n      <td>-0.005013</td>\n      <td>0.039099</td>\n      <td>0.897987</td>\n      <td>18856</td>\n      <td>6683</td>\n      <td>0.055621</td>\n      <td>2097.581761</td>\n      <td>743.431211</td>\n      <td>NaN</td>\n      <td>True</td>\n    </tr>\n    <tr>\n      <th>...</th>\n      <td>...</td>\n      <td>...</td>\n      <td>...</td>\n      <td>...</td>\n      <td>...</td>\n      <td>...</td>\n      <td>...</td>\n      <td>...</td>\n      <td>...</td>\n      <td>...</td>\n      <td>...</td>\n      <td>...</td>\n      <td>...</td>\n      <td>...</td>\n      <td>...</td>\n      <td>...</td>\n      <td>...</td>\n      <td>...</td>\n      <td>...</td>\n    </tr>\n    <tr>\n      <th>10802</th>\n      <td>gwas</td>\n      <td>GCST005536</td>\n      <td>None</td>\n      <td>None</td>\n      <td>None</td>\n      <td>1</td>\n      <td>248697340</td>\n      <td>A</td>\n      <td>C</td>\n      <td>0.024985</td>\n      <td>0.027984</td>\n      <td>0.371934</td>\n      <td>18856</td>\n      <td>6683</td>\n      <td>0.126461</td>\n      <td>4769.113016</td>\n      <td>1690.283320</td>\n      <td>NaN</td>\n      <td>True</td>\n    </tr>\n    <tr>\n      <th>10803</th>\n      <td>gwas</td>\n      <td>GCST005536</td>\n      <td>None</td>\n      <td>None</td>\n      <td>None</td>\n      <td>1</td>\n      <td>248847255</td>\n      <td>C</td>\n      <td>T</td>\n      <td>0.011039</td>\n      <td>0.042149</td>\n      <td>0.793395</td>\n      <td>18856</td>\n      <td>6683</td>\n      <td>0.051005</td>\n      <td>1923.483085</td>\n      <td>681.726636</td>\n      <td>NaN</td>\n      <td>True</td>\n    </tr>\n    <tr>\n      <th>10804</th>\n      <td>gwas</td>\n      <td>GCST005536</td>\n      <td>None</td>\n      <td>None</td>\n      <td>None</td>\n      <td>1</td>\n      <td>248908368</td>\n      <td>C</td>\n      <td>T</td>\n      <td>0.023033</td>\n      <td>0.063091</td>\n      <td>0.715052</td>\n      <td>18856</td>\n      <td>6683</td>\n      <td>0.021392</td>\n      <td>806.752236</td>\n      <td>285.931544</td>\n      <td>NaN</td>\n      <td>True</td>\n    </tr>\n    <tr>\n      <th>10805</th>\n      <td>gwas</td>\n      <td>GCST005536</td>\n      <td>None</td>\n      <td>None</td>\n      <td>None</td>\n      <td>1</td>\n      <td>248914941</td>\n      <td>A</td>\n      <td>G</td>\n      <td>-0.013015</td>\n      <td>0.059069</td>\n      <td>0.825607</td>\n      <td>18856</td>\n      <td>6683</td>\n      <td>0.976916</td>\n      <td>870.540267</td>\n      <td>308.539489</td>\n      <td>NaN</td>\n      <td>True</td>\n    </tr>\n    <tr>\n      <th>10806</th>\n      <td>gwas</td>\n      <td>GCST005536</td>\n      <td>None</td>\n      <td>None</td>\n      <td>None</td>\n      <td>1</td>\n      <td>248916508</td>\n      <td>G</td>\n      <td>A</td>\n      <td>-0.072033</td>\n      <td>0.047023</td>\n      <td>0.125543</td>\n      <td>18856</td>\n      <td>6683</td>\n      <td>0.042748</td>\n      <td>1612.104826</td>\n      <td>571.367021</td>\n      <td>NaN</td>\n      <td>True</td>\n    </tr>\n  </tbody>\n</table>\n<p>10807 rows × 19 columns</p>\n</div>",
      "text/plain": "       type    study_id phenotype_id bio_feature gene_id chrom        pos ref  \\\n0      gwas  GCST005536         None        None    None     1    1182895   C   \n1      gwas  GCST005536         None        None    None     1    1199862   A   \n2      gwas  GCST005536         None        None    None     1    1205055   G   \n3      gwas  GCST005536         None        None    None     1    1228424   C   \n4      gwas  GCST005536         None        None    None     1    1229930   G   \n...     ...         ...          ...         ...     ...   ...        ...  ..   \n10802  gwas  GCST005536         None        None    None     1  248697340   A   \n10803  gwas  GCST005536         None        None    None     1  248847255   C   \n10804  gwas  GCST005536         None        None    None     1  248908368   C   \n10805  gwas  GCST005536         None        None    None     1  248914941   A   \n10806  gwas  GCST005536         None        None    None     1  248916508   G   \n\n      alt      beta        se      pval  n_total  n_cases       eaf  \\\n0       T -0.073001  0.045001  0.104756    18856     6683  0.042950   \n1       C -0.038949  0.020973  0.063291    18856     6683  0.278139   \n2       T -0.027988  0.019992  0.161513    18856     6683  0.329919   \n3       T -0.050031  0.026017  0.054470    18856     6683  0.155267   \n4       A -0.005013  0.039099  0.897987    18856     6683  0.055621   \n...    ..       ...       ...       ...      ...      ...       ...   \n10802   C  0.024985  0.027984  0.371934    18856     6683  0.126461   \n10803   T  0.011039  0.042149  0.793395    18856     6683  0.051005   \n10804   T  0.023033  0.063091  0.715052    18856     6683  0.021392   \n10805   G -0.013015  0.059069  0.825607    18856     6683  0.976916   \n10806   A -0.072033  0.047023  0.125543    18856     6683  0.042748   \n\n                mac    mac_cases  info  is_cc  \n0       1619.729175   574.069266   NaN   True  \n1      10489.186727  3717.608979   NaN   True  \n2      12441.909186  4409.698721   NaN   True  \n3       5855.413264  2075.293108   NaN   True  \n4       2097.581761   743.431211   NaN   True  \n...             ...          ...   ...    ...  \n10802   4769.113016  1690.283320   NaN   True  \n10803   1923.483085   681.726636   NaN   True  \n10804    806.752236   285.931544   NaN   True  \n10805    870.540267   308.539489   NaN   True  \n10806   1612.104826   571.367021   NaN   True  \n\n[10807 rows x 19 columns]"
     },
     "execution_count": 17,
     "metadata": {},
     "output_type": "execute_result"
    }
   ],
   "source": [
    "Input_sumstats=pd.read_parquet(\"/Users/xg1/Downloads/ldsc/input_sumstats/GCST005536.parquet\")\n",
    "Input_sumstats.loc[Input_sumstats['chrom'] == str(1)]"
   ]
  },
  {
   "cell_type": "code",
   "execution_count": 4,
   "metadata": {},
   "outputs": [],
   "source": [
    "from subprocess import Popen, PIPE\n",
    "\n",
    "def bgzip(filename):\n",
    "    \"\"\"Call bgzip to compress a file.\"\"\"\n",
    "    Popen(['bgzip', '-f', filename])\n",
    "\n",
    "def tabix_index(filename,\n",
    "        preset=\"gff\", chrom=1, start=4, end=5, skip=0, comment=\"#\"):\n",
    "    \"\"\"Call tabix to create an index for a bgzip-compressed file.\"\"\"\n",
    "    Popen(['tabix', '-p', preset, '-s', chrom, '-b', start, '-e', end,\n",
    "        '-S', skip, '-c', comment])\n",
    "\n",
    "def tabix_query(filename, chrom, start, end):\n",
    "    \"\"\"Call tabix and generate an array of strings for each line it returns.\"\"\"\n",
    "    query = '{}:{}-{}'.format(chrom, start, end)\n",
    "    process = Popen(['tabix', '-f', filename, query], stdout=PIPE)\n",
    "    for line in process.stdout:\n",
    "        yield line.strip().split()"
   ]
  },
  {
   "cell_type": "code",
   "execution_count": 36,
   "metadata": {},
   "outputs": [],
   "source": [
    "def snpLdTabix(snp, chrom, bp, tabixDir, window, r2min):\n",
    "    \"\"\"\n",
    "    Retrive LD info from the tabix file for a single SNP.\n",
    "    \"\"\"\n",
    "    file = os.path.join(tabixDir, '{}_GRCh38.EUR.ld.bgz')\n",
    "    tabixFile = file.format(chrom)\n",
    "    print(tabixFile)\n",
    "    st = bp - window\n",
    "    if st < 0:\n",
    "        st = 0\n",
    "    en = bp + window\n",
    "\n",
    "    query = \"tabix {tabixFile} {chrom}:{st}-{en} | awk '$6 >= {r2min} {{print $0}}' | grep -w {snp}\"\n",
    "    proc = Popen(query, shell=True, stdout=PIPE)\n",
    "\n",
    "    return proc"
   ]
  },
  {
   "cell_type": "code",
   "execution_count": 37,
   "metadata": {},
   "outputs": [
    {
     "name": "stdout",
     "output_type": "stream",
     "text": [
      "/User/xg1/Downloads/CHEERS/LD_GRCh38/chr10_GRCh38.EUR.ld.bgz\n"
     ]
    }
   ],
   "source": [
    "abc=snpLdTabix(\"rs12260013\", \"chr10\", 20364, \"/User/xg1/Downloads/CHEERS/LD_GRCh38/\", 500000, 0.1)"
   ]
  },
  {
   "cell_type": "code",
   "execution_count": 38,
   "metadata": {},
   "outputs": [
    {
     "data": {
      "text/plain": "<_io.BufferedReader name=61>"
     },
     "execution_count": 38,
     "metadata": {},
     "output_type": "execute_result"
    }
   ],
   "source": [
    "abc.stdout"
   ]
  },
  {
   "cell_type": "code",
   "execution_count": 2,
   "metadata": {},
   "outputs": [
    {
     "ename": "NameError",
     "evalue": "name 'abc' is not defined",
     "output_type": "error",
     "traceback": [
      "\u001b[0;31m---------------------------------------------------------------------------\u001b[0m",
      "\u001b[0;31mNameError\u001b[0m                                 Traceback (most recent call last)",
      "\u001b[0;32m<ipython-input-2-79141a5109b8>\u001b[0m in \u001b[0;36m<module>\u001b[0;34m\u001b[0m\n\u001b[0;32m----> 1\u001b[0;31m \u001b[0;32mfor\u001b[0m \u001b[0mline\u001b[0m \u001b[0;32min\u001b[0m \u001b[0mabc\u001b[0m\u001b[0;34m.\u001b[0m\u001b[0mstdout\u001b[0m\u001b[0;34m:\u001b[0m\u001b[0;34m\u001b[0m\u001b[0;34m\u001b[0m\u001b[0m\n\u001b[0m\u001b[1;32m      2\u001b[0m     \u001b[0mfields\u001b[0m\u001b[0;34m=\u001b[0m\u001b[0mline\u001b[0m\u001b[0;34m.\u001b[0m\u001b[0mstrip\u001b[0m\u001b[0;34m(\u001b[0m\u001b[0;34m)\u001b[0m\u001b[0;34m.\u001b[0m\u001b[0msplit\u001b[0m\u001b[0;34m(\u001b[0m\u001b[0;34m)\u001b[0m\u001b[0;34m\u001b[0m\u001b[0;34m\u001b[0m\u001b[0m\n\u001b[1;32m      3\u001b[0m     \u001b[0mprint\u001b[0m\u001b[0;34m(\u001b[0m\u001b[0mfields\u001b[0m\u001b[0;34m[\u001b[0m\u001b[0;36m0\u001b[0m\u001b[0;34m]\u001b[0m\u001b[0;34m)\u001b[0m\u001b[0;34m\u001b[0m\u001b[0;34m\u001b[0m\u001b[0m\n",
      "\u001b[0;31mNameError\u001b[0m: name 'abc' is not defined"
     ]
    }
   ],
   "source": [
    "for line in abc.stdout:\n",
    "    fields=line.strip().split()\n",
    "    print(fields[0])"
   ]
  },
  {
   "cell_type": "code",
   "execution_count": null,
   "metadata": {},
   "outputs": [
    {
     "data": {
      "text/plain": "<generator object tabix_query at 0x7fc35b680c00>"
     },
     "execution_count": 5,
     "metadata": {},
     "output_type": "execute_result"
    }
   ],
   "source": [
    "tabix_query(\"/User/xg1/Downloads/CHEERS/LD_GRCh38/chr10_GRCh38.EUR.ld.bgz\", \"chr10\", 1000000, 1010000)"
   ]
  },
  {
   "cell_type": "code",
   "execution_count": 27,
   "metadata": {},
   "outputs": [
    {
     "ename": "AttributeError",
     "evalue": "'generator' object has no attribute 'stdout'",
     "output_type": "error",
     "traceback": [
      "\u001b[0;31m---------------------------------------------------------------------------\u001b[0m",
      "\u001b[0;31mAttributeError\u001b[0m                            Traceback (most recent call last)",
      "\u001b[0;32m<ipython-input-27-33b7c7e36a8e>\u001b[0m in \u001b[0;36m<module>\u001b[0;34m\u001b[0m\n\u001b[0;32m----> 1\u001b[0;31m \u001b[0maaa\u001b[0m\u001b[0;34m.\u001b[0m\u001b[0mstdout\u001b[0m\u001b[0;34m\u001b[0m\u001b[0;34m\u001b[0m\u001b[0m\n\u001b[0m",
      "\u001b[0;31mAttributeError\u001b[0m: 'generator' object has no attribute 'stdout'"
     ]
    }
   ],
   "source": []
  },
  {
   "cell_type": "code",
   "execution_count": null,
   "metadata": {},
   "outputs": [],
   "source": []
  }
 ],
 "metadata": {
  "kernelspec": {
   "display_name": "Python 3.7.3 64-bit ('SNP_enrich': conda)",
   "name": "python373jvsc74a57bd09a218f4a58cb44d8651aa34d01362d0132a49afe72d8eee3976ac6216d69f221"
  },
  "language_info": {
   "codemirror_mode": {
    "name": "ipython",
    "version": 3
   },
   "file_extension": ".py",
   "mimetype": "text/x-python",
   "name": "python",
   "nbconvert_exporter": "python",
   "pygments_lexer": "ipython3",
   "version": "3.7.3"
  }
 },
 "nbformat": 4,
 "nbformat_minor": 4
}