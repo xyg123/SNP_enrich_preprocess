{
 "cells": [
  {
   "cell_type": "code",
   "execution_count": 2,
   "metadata": {},
   "outputs": [],
   "source": [
    "import os\n",
    "import sys\n",
    "import numpy as np\n",
    "import pandas as pd\n",
    "#from scipy.stats import norm\n",
    "\n",
    "import pybedtools\n",
    "import re\n",
    "#import matplotlib as plt\n",
    "import pyBigWig as pbw\n",
    "import time\n",
    "import urllib.request\n",
    "import matplotlib.pyplot as plt\n",
    "import json\n",
    "import requests"
   ]
  },
  {
   "cell_type": "code",
   "execution_count": 4,
   "metadata": {},
   "outputs": [
    {
     "name": "stdout",
     "output_type": "stream",
     "text": [
      "{'chr1': 249250621, 'chr10': 135534747, 'chr11': 135006516, 'chr12': 133851895, 'chr13': 115169878, 'chr14': 107349540, 'chr15': 102531392, 'chr16': 90354753, 'chr17': 81195210, 'chr18': 78077248, 'chr19': 59128983, 'chr2': 243199373, 'chr20': 63025520, 'chr21': 48129895, 'chr22': 51304566, 'chr3': 198022430, 'chr4': 191154276, 'chr5': 180915260, 'chr6': 171115067, 'chr7': 159138663, 'chr8': 146364022, 'chr9': 141213431, 'chrX': 155270560}\n",
      "{'version': 4, 'nLevels': 10, 'nBasesCovered': 3077992836, 'minVal': 0, 'maxVal': 58, 'sumData': 1710485446, 'sumSquared': 6789305911}\n"
     ]
    }
   ],
   "source": [
    "\n"
   ]
  },
  {
   "cell_type": "code",
   "execution_count": null,
   "metadata": {},
   "outputs": [],
   "source": [
    "imputed_urls_path=\"../configs/Imputed_urls.txt\"\n",
    "observed_urls_path=\"../configs/Observed_urls.txt\"\n",
    "\n",
    "Enhancer_urls=pd.read_csv(\"../configs/enhancers_urls.txt\",\n",
    "                        header=None, names=['filename'])\n",
    "Promoter_urls=pd.read_csv(\"../configs/promoters_urls.txt\",\n",
    "                        header=None, names=['filename'])\n",
    "\n",
    "imputed_urls=pd.read_csv(imputed_urls_path, header=None, names=['filename'])\n",
    "observed_urls=pd.read_csv(observed_urls_path, header=None, names=['filename'])\n",
    "\n",
    "epimap_meta_path=\"../configs/main_metadata_table.tsv\"\n",
    "\n",
    "epimap_meta=pd.read_csv(epimap_meta_path, sep=\"\\t\")\n",
    "\n",
    "def strip_to_sample(input_url):\n",
    "    return(input_url.split(sep=\"_\")[0])\n",
    "\n",
    "Promoter_urls_samples=Promoter_urls.apply(lambda x: strip_to_sample(x['filename']), axis=1)\n",
    "Enhancer_urls_samples=Enhancer_urls.apply(lambda x: strip_to_sample(x['filename']), axis=1)\n",
    "\n",
    "epimap_meta=epimap_meta.loc[epimap_meta['id'].isin(Enhancer_urls_samples) & epimap_meta['id'].isin(Promoter_urls_samples)]"
   ]
  },
  {
   "cell_type": "code",
   "execution_count": null,
   "metadata": {},
   "outputs": [],
   "source": [
    "from collections import OrderedDict\n",
    "cols = OrderedDict([\n",
    "    ('id', 'Sample_id'),\n",
    "    ('GROUP', 'GROUP'),\n",
    "    ('infoline', 'infoline')\n",
    "])\n",
    "\n",
    "#epimap_cells=epimap_meta[:, cols.keys()]\n",
    "#epimap_cells.to_csv(\"epimap_cell_types.tsv\", sep=\"\\t\")\n",
    "print(epimap_meta.loc[epimap_meta['GROUP'].str.contains(\"Epithelial\")])\n",
    "#print(epimap_meta.loc[epimap_meta['infoline'].str.contains(\"INTEST\")])\n",
    "#print(epimap_meta.loc[epimap_meta['id'].str.contains(\"BSS01068\")])\n",
    "#print(epimap_meta['SECONDARY'].unique())\n",
    "#print(epimap_meta['ct'].unique())\n",
    "#print(epimap_meta['infoline'].unique())"
   ]
  },
  {
   "cell_type": "code",
   "execution_count": 12,
   "metadata": {},
   "outputs": [
    {
     "name": "stdout",
     "output_type": "stream",
     "text": [
      "                                               traitId  \\\n",
      "0             [BSS00121, BSS00122, BSS00123, BSS00124]   \n",
      "1                                           [BSS00387]   \n",
      "2    [BSS00045, BSS00046, BSS00047, BSS00048, BSS00...   \n",
      "3                                 [BSS00328, BSS00329]   \n",
      "4                                 [BSS00526, BSS00528]   \n",
      "..                                                 ...   \n",
      "239                                         [BSS01677]   \n",
      "240           [BSS00178, BSS00179, BSS00180, BSS00181]   \n",
      "241  [BSS01150, BSS01151, BSS01482, BSS01483, BSS01...   \n",
      "242           [BSS01217, BSS01223, BSS01224, BSS01225]   \n",
      "243                               [BSS01340, BSS01341]   \n",
      "\n",
      "                       traitName     score           efoId  \\\n",
      "0               BODY OF PANCREAS  0.840765  UBERON_0001150   \n",
      "1    GLOMERULUS ENDOTHELIAL CELL  0.879627      CL_0002188   \n",
      "2                  ADRENAL GLAND  1.000000  UBERON_0002369   \n",
      "3                            EYE  1.000000  UBERON_0000970   \n",
      "4                    KIDNEY CELL  1.000000      CL_1000497   \n",
      "..                           ...       ...             ...   \n",
      "239      SUPERIOR TEMPORAL GYRUS  1.000000  UBERON_0002769   \n",
      "240                CD14 MONOCYTE  0.925287      CL_0001054   \n",
      "241    RENAL CORTEX INTERSTITIUM  1.000000  UBERON_0005270   \n",
      "242       BREAST EPITHELIAL CELL  0.999000      CL_0002327   \n",
      "243   MAMMARY MYOEPITHELIAL CELL  0.940843      CL_1000418   \n",
      "\n",
      "                                        efoName  \n",
      "0                              body of pancreas  \n",
      "1                   glomerular endothelial cell  \n",
      "2                                 adrenal gland  \n",
      "3                                           eye  \n",
      "4                                   kidney cell  \n",
      "..                                          ...  \n",
      "239                     superior temporal gyrus  \n",
      "240                      CD14-positive monocyte  \n",
      "241                   renal cortex interstitium  \n",
      "242               mammary gland epithelial cell  \n",
      "243  myoepithelial cell of lactiferous alveolus  \n",
      "\n",
      "[244 rows x 5 columns]\n"
     ]
    }
   ],
   "source": [
    "celltype_mappings = pd.read_json(\"../configs/tissues_cl_curated.json.gz\", \n",
    "                        orient='records', lines=True)\n",
    "print(celltype_mappings)\n",
    "celltype_mappings.to_csv(\"../configs/tissue_mappings.tsv\", sep=\"\\t\")"
   ]
  },
  {
   "cell_type": "code",
   "execution_count": 34,
   "metadata": {},
   "outputs": [
    {
     "name": "stdout",
     "output_type": "stream",
     "text": [
      "{'id': 'uberon:class:http://purl.obolibrary.org/obo/UBERON_0002113', 'iri': 'http://purl.obolibrary.org/obo/UBERON_0002113', 'short_form': 'UBERON_0002113', 'obo_id': 'UBERON:0002113', 'label': 'kidney', 'ontology_name': 'uberon', 'ontology_prefix': 'UBERON', 'type': 'class'}\n"
     ]
    }
   ],
   "source": [
    "def Make_mapping_url(Cell_type):\n",
    "    return(\"https://www.ebi.ac.uk/ols/api/select?q=\"+Cell_type.replace(\" \", \"\\%20\")+\"&ontology=uberon\")\n",
    "\n",
    "URL_test=Make_mapping_url(epimap_meta['infoline'][418])\n",
    "response=requests.get(URL_test)\n",
    "\n",
    "parsed=json.loads(response.text)\n",
    "#print(json.dumps(parsed, indent=4))\n",
    "print(parsed[\"response\"][\"docs\"][0])"
   ]
  },
  {
   "cell_type": "code",
   "execution_count": 4,
   "metadata": {},
   "outputs": [
    {
     "data": {
      "text/html": [
       "<div>\n",
       "<style scoped>\n",
       "    .dataframe tbody tr th:only-of-type {\n",
       "        vertical-align: middle;\n",
       "    }\n",
       "\n",
       "    .dataframe tbody tr th {\n",
       "        vertical-align: top;\n",
       "    }\n",
       "\n",
       "    .dataframe thead th {\n",
       "        text-align: right;\n",
       "    }\n",
       "</style>\n",
       "<table border=\"1\" class=\"dataframe\">\n",
       "  <thead>\n",
       "    <tr style=\"text-align: right;\">\n",
       "      <th></th>\n",
       "      <th>id</th>\n",
       "      <th>GROUP</th>\n",
       "      <th>ct</th>\n",
       "      <th>SECONDARY</th>\n",
       "      <th>infoline</th>\n",
       "      <th>origin</th>\n",
       "      <th>perturb</th>\n",
       "      <th>lifestage</th>\n",
       "      <th>age</th>\n",
       "      <th>age.units</th>\n",
       "      <th>sex</th>\n",
       "      <th>type</th>\n",
       "      <th>COLOR</th>\n",
       "      <th>category</th>\n",
       "      <th>Project</th>\n",
       "      <th>Donor</th>\n",
       "      <th>name</th>\n",
       "    </tr>\n",
       "  </thead>\n",
       "  <tbody>\n",
       "    <tr>\n",
       "      <td>142</td>\n",
       "      <td>BSS00215</td>\n",
       "      <td>Placenta &amp; EEM</td>\n",
       "      <td>chorionic_villus_female_embryo_(40_weeks)</td>\n",
       "      <td>NaN</td>\n",
       "      <td>CHORIONIC VILLUS</td>\n",
       "      <td>NaN</td>\n",
       "      <td>NaN</td>\n",
       "      <td>embryonic</td>\n",
       "      <td>40</td>\n",
       "      <td>week</td>\n",
       "      <td>female</td>\n",
       "      <td>tissue</td>\n",
       "      <td>#E10000</td>\n",
       "      <td>Tissue</td>\n",
       "      <td>Roadmap (New)</td>\n",
       "      <td>ENCDO651ROT</td>\n",
       "      <td>chorionic villus female embryo (40 weeks)</td>\n",
       "    </tr>\n",
       "  </tbody>\n",
       "</table>\n",
       "</div>"
      ],
      "text/plain": [
       "           id           GROUP                                         ct  \\\n",
       "142  BSS00215  Placenta & EEM  chorionic_villus_female_embryo_(40_weeks)   \n",
       "\n",
       "    SECONDARY          infoline origin perturb  lifestage age age.units  \\\n",
       "142       NaN  CHORIONIC VILLUS    NaN     NaN  embryonic  40      week   \n",
       "\n",
       "        sex    type    COLOR category        Project        Donor  \\\n",
       "142  female  tissue  #E10000   Tissue  Roadmap (New)  ENCDO651ROT   \n",
       "\n",
       "                                          name  \n",
       "142  chorionic villus female embryo (40 weeks)  "
      ]
     },
     "execution_count": 4,
     "metadata": {},
     "output_type": "execute_result"
    }
   ],
   "source": [
    "epimap_meta.loc[epimap_meta['id'].str.contains(\"BSS00215\")]"
   ]
  },
  {
   "cell_type": "code",
   "execution_count": 13,
   "metadata": {},
   "outputs": [
    {
     "ename": "NameError",
     "evalue": "name 'Cell_types_to_run' is not defined",
     "output_type": "error",
     "traceback": [
      "\u001b[0;31m---------------------------------------------------------------------------\u001b[0m",
      "\u001b[0;31mNameError\u001b[0m                                 Traceback (most recent call last)",
      "\u001b[0;32m<ipython-input-13-6e85c77b7b0f>\u001b[0m in \u001b[0;36m<module>\u001b[0;34m\u001b[0m\n\u001b[1;32m      1\u001b[0m \u001b[0;31m#del epimap_meta['GROUP'].unique()[(range(0, 6))]\u001b[0m\u001b[0;34m\u001b[0m\u001b[0;34m\u001b[0m\u001b[0;34m\u001b[0m\u001b[0m\n\u001b[0;32m----> 2\u001b[0;31m \u001b[0mCell_types_to_run\u001b[0m\u001b[0;34m=\u001b[0m\u001b[0mnp\u001b[0m\u001b[0;34m.\u001b[0m\u001b[0mdelete\u001b[0m\u001b[0;34m(\u001b[0m\u001b[0mCell_types_to_run\u001b[0m\u001b[0;34m,\u001b[0m \u001b[0mrange\u001b[0m\u001b[0;34m(\u001b[0m\u001b[0;36m0\u001b[0m\u001b[0;34m,\u001b[0m \u001b[0;36m6\u001b[0m\u001b[0;34m)\u001b[0m\u001b[0;34m)\u001b[0m\u001b[0;34m\u001b[0m\u001b[0;34m\u001b[0m\u001b[0m\n\u001b[0m",
      "\u001b[0;31mNameError\u001b[0m: name 'Cell_types_to_run' is not defined"
     ]
    }
   ],
   "source": []
  },
  {
   "cell_type": "code",
   "execution_count": 14,
   "metadata": {
    "collapsed": true
   },
   "outputs": [],
   "source": [
    "def Get_bigwig_URLs(Celltype, Chromatin_mark):\n",
    "    Matched_celltype=epimap_meta.loc[epimap_meta['GROUP'].str.contains(Celltype)].reset_index()\n",
    "    Matched_URLs=[]\n",
    "    for i in Matched_celltype['id']:\n",
    "        Imputed_search=imputed_urls.loc[imputed_urls['filename'].str.contains(i+\"_\"+Chromatin_mark)].reset_index()\n",
    "        if Imputed_search.empty == False:\n",
    "            Matched_URLs.append(\"https://epigenome.wustl.edu/epimap/data/imputed/\"\n",
    "                                +Imputed_search.iloc[0]['filename'])\n",
    "            continue\n",
    "\n",
    "        Observed_search=observed_urls.loc[observed_urls['filename'].str.contains(Chromatin_mark+\"_\"+i)].reset_index()\n",
    "        if Observed_search.empty == False:\n",
    "            Matched_URLs.append(\"https://epigenome.wustl.edu/epimap/data/observed/\"\n",
    "                                +Observed_search.iloc[0]['filename'])\n",
    "    Out_file=open(\"/home/xg1/CHEERS/epimap/to_download/\"+Celltype+\"_\"+Chromatin_mark+\".txt\", \"w\")\n",
    "    for i in Matched_URLs:\n",
    "        Out_file.write(i+\"\\n\")\n",
    "    Out_file.close\n",
    "    return(Matched_URLs)\n",
    "\n",
    "#Digestive_URLs=Get_bigwig_URLs(Celltype='Digestive', Chromatin_mark='H3K27ac')\n",
    "#Tcell_URLs=Get_bigwig_URLs(Celltype='Blood & T-cell', Chromatin_mark='H3K27ac')\n",
    "#Get_bigwig_URLs(Celltype='Bone', Chromatin_mark='H3K27ac')\n"
   ]
  },
  {
   "cell_type": "code",
   "execution_count": 15,
   "metadata": {},
   "outputs": [],
   "source": [
    "def Get_Sample_IDs(Cell_type):\n",
    "    Matched_celltype=epimap_meta.loc[epimap_meta['GROUP'].str.contains(Cell_type)].reset_index()\n",
    "    return(Matched_celltype['id'])\n",
    "    \n",
    "\n",
    "def Get_regulatory_URLs(Sample_ID):\n",
    "    enhancer_page=\"https://personal.broadinstitute.org/cboix/epimap/mark_matrices/enhancers_bysample/\"\n",
    "    promoter_page=\"https://personal.broadinstitute.org/cboix/epimap/mark_matrices/promoters_bysample/\"\n",
    "    \n",
    "    enhancer_file=Enhancer_urls.loc[Enhancer_urls['filename'].str.contains(Sample_ID)].reset_index()\n",
    "    promoter_file=Promoter_urls.loc[Promoter_urls['filename'].str.contains(Sample_ID)].reset_index()\n",
    "    \n",
    "    return([enhancer_page+enhancer_file.iloc[0]['filename'], \n",
    "            promoter_page+promoter_file.iloc[0]['filename']])\n",
    "\n",
    "def Get_BW_URLs(Sample_ID, Chromatin_mark):\n",
    "    Imputed_search=imputed_urls.loc[imputed_urls['filename'].str.contains(Sample_ID+\"_\"+Chromatin_mark)].reset_index()\n",
    "    if Imputed_search.empty == False:\n",
    "        Matched_URLs=\"https://epigenome.wustl.edu/epimap/data/imputed/\"+Imputed_search.iloc[0]['filename']\n",
    "    Observed_search=observed_urls.loc[observed_urls['filename'].str.contains(Chromatin_mark+\"_\"+Sample_ID)].reset_index()\n",
    "    if Observed_search.empty == False:\n",
    "        Matched_URLs=\"https://epigenome.wustl.edu/epimap/data/observed/\"+Observed_search.iloc[0]['filename']\n",
    "    return(Matched_URLs)\n"
   ]
  },
  {
   "cell_type": "code",
   "execution_count": 74,
   "metadata": {},
   "outputs": [
    {
     "name": "stdout",
     "output_type": "stream",
     "text": [
      "1.576561689376831\n"
     ]
    },
    {
     "data": {
      "text/plain": [
       "['https://personal.broadinstitute.org/cboix/epimap/mark_matrices/enhancers_bysample/BSS00001_CA.PRAD.EPITH.22RV1_hg19_enhancer_list.bed.gz',\n",
       " 'https://personal.broadinstitute.org/cboix/epimap/mark_matrices/promoters_bysample/BSS00001_CA.PRAD.EPITH.22RV1_hg19_promoter_list.bed.gz']"
      ]
     },
     "execution_count": 74,
     "metadata": {},
     "output_type": "execute_result"
    }
   ],
   "source": [
    "start_time1 = time.time()\n",
    "Digest_bw=pbw.open(Digestive_URLs[0])\n",
    "end_time1 = time.time()\n",
    "running_time = (end_time1 - start_time1)\n",
    "\n",
    "print(running_time)\n",
    "\n",
    "Get_regulatory_URLs(\"BSS00001\")"
   ]
  },
  {
   "cell_type": "code",
   "execution_count": 84,
   "metadata": {},
   "outputs": [
    {
     "data": {
      "text/html": [
       "<div>\n",
       "<style scoped>\n",
       "    .dataframe tbody tr th:only-of-type {\n",
       "        vertical-align: middle;\n",
       "    }\n",
       "\n",
       "    .dataframe tbody tr th {\n",
       "        vertical-align: top;\n",
       "    }\n",
       "\n",
       "    .dataframe thead th {\n",
       "        text-align: right;\n",
       "    }\n",
       "</style>\n",
       "<table border=\"1\" class=\"dataframe\">\n",
       "  <thead>\n",
       "    <tr style=\"text-align: right;\">\n",
       "      <th></th>\n",
       "      <th>chr</th>\n",
       "      <th>start</th>\n",
       "      <th>end</th>\n",
       "      <th>name</th>\n",
       "      <th>BSS00001</th>\n",
       "    </tr>\n",
       "  </thead>\n",
       "  <tbody>\n",
       "    <tr>\n",
       "      <th>0</th>\n",
       "      <td>chr1</td>\n",
       "      <td>715174</td>\n",
       "      <td>715352</td>\n",
       "      <td>chunk0004_20_3</td>\n",
       "      <td>67.629999</td>\n",
       "    </tr>\n",
       "    <tr>\n",
       "      <th>1</th>\n",
       "      <td>chr1</td>\n",
       "      <td>839052</td>\n",
       "      <td>839380</td>\n",
       "      <td>chunk0004_255_1</td>\n",
       "      <td>218.670001</td>\n",
       "    </tr>\n",
       "    <tr>\n",
       "      <th>2</th>\n",
       "      <td>chr1</td>\n",
       "      <td>839180</td>\n",
       "      <td>839480</td>\n",
       "      <td>chunk0004_256_1</td>\n",
       "      <td>211.849999</td>\n",
       "    </tr>\n",
       "    <tr>\n",
       "      <th>3</th>\n",
       "      <td>chr1</td>\n",
       "      <td>841280</td>\n",
       "      <td>841580</td>\n",
       "      <td>chunk0004_271_1</td>\n",
       "      <td>155.399998</td>\n",
       "    </tr>\n",
       "    <tr>\n",
       "      <th>4</th>\n",
       "      <td>chr1</td>\n",
       "      <td>841382</td>\n",
       "      <td>841780</td>\n",
       "      <td>chunk0004_273_1</td>\n",
       "      <td>241.089997</td>\n",
       "    </tr>\n",
       "  </tbody>\n",
       "</table>\n",
       "</div>"
      ],
      "text/plain": [
       "    chr   start     end             name    BSS00001\n",
       "0  chr1  715174  715352   chunk0004_20_3   67.629999\n",
       "1  chr1  839052  839380  chunk0004_255_1  218.670001\n",
       "2  chr1  839180  839480  chunk0004_256_1  211.849999\n",
       "3  chr1  841280  841580  chunk0004_271_1  155.399998\n",
       "4  chr1  841382  841780  chunk0004_273_1  241.089997"
      ]
     },
     "execution_count": 84,
     "metadata": {},
     "output_type": "execute_result"
    }
   ],
   "source": [
    "Test_enhancers['BSS00001']=Test_signal\n",
    "Test_enhancers.head()"
   ]
  },
  {
   "cell_type": "code",
   "execution_count": null,
   "metadata": {
    "collapsed": true
   },
   "outputs": [],
   "source": [
    "\n"
   ]
  },
  {
   "cell_type": "code",
   "execution_count": null,
   "metadata": {
    "collapsed": true
   },
   "outputs": [],
   "source": [
    "\n",
    "Cell_types_to_run=epimap_meta['GROUP'].unique()\n",
    "#del epimap_meta['GROUP'].unique()[(range(0, 6))]\n",
    "Cell_types_to_run=np.delete(Cell_types_to_run, range(0, 7))\n",
    "Cell_types_to_run"
   ]
  },
  {
   "cell_type": "code",
   "execution_count": 6,
   "metadata": {},
   "outputs": [
    {
     "name": "stdout",
     "output_type": "stream",
     "text": [
      "1897.032071352005\n"
     ]
    }
   ],
   "source": [
    "# Define list of cell types to run\n",
    "start_time1 = time.time()\n",
    "\n",
    "#Cell_types_to_run=['Digestive', 'Blood & T-cell', 'Bone', 'Brain', 'Adipose', 'Mesench', \n",
    "#                 'Endocrine', 'Stromal', 'Epithelial', 'Heart', 'HSC & B-cell', 'ES-deriv', 'Pancreas',\n",
    "#                  'Endothelial'];\n",
    "\n",
    "Cell_types_to_run=epimap_meta['GROUP'].unique()\n",
    "#Get_Sample_IDs(Cell_types_to_run[0])[0:5]\n",
    "\n",
    "# Get their associated Promoter+Enhancer files:\n",
    "\n",
    "for cell in Cell_types_to_run:\n",
    "    cell_IDs=Get_Sample_IDs(cell)\n",
    "    for sample_ID in cell_IDs:\n",
    "        Reg_URLs=Get_regulatory_URLs(sample_ID)\n",
    "        urllib.request.urlretrieve(Reg_URLs[0], \"../saved/\"+sample_ID+\"_enhancer.bed.gz\")\n",
    "        urllib.request.urlretrieve(Reg_URLs[1], \"../saved/\"+sample_ID+\"_promoter.bed.gz\")\n",
    "        \n",
    "        #Current_enhancers=pybedtools.BedTool(\"../saved/\"+sample_ID+\"_enhancer.bed.gz\")\n",
    "        #Current_enhancers_pd=pd.read_table(Current_enhancers.fn)\n",
    "        #Current_enhancers_pd.to_csv(\"/home/xg1/CHEERS/epimap/regulatory_elements/Master_enhancers.bed\",\n",
    "        #                            mode='a', header=False, sep=\"\\t\", index=False)\n",
    "        \n",
    "        #Current_promoters=pybedtools.BedTool(\"/home/xg1/\"+sample_ID+\"_promoter.bed.gz\")\n",
    "        #Current_promoters_pd=pd.read_table(Current_promoters.fn)\n",
    "        #Current_promoters_pd.to_csv(\"/home/xg1/CHEERS/epimap/regulatory_elements/Master_enhancers.bed\",\n",
    "         #                           mode='a', header=False, sep=\"\\t\", index=False)\n",
    "        \n",
    "# Merge the Promoter+enhancer files\n",
    "\n",
    "#Master_enhancers=pybedtools.BedTool(\"/home/xg1/CHEERS/epimap/regulatory_elements/Master_enhancers.bed\")\n",
    "#Master_enhancers_sorted=Master_enhancers.sort()\n",
    "#Master_enhancers_merged=Master_enhancers_sorted.merge(d=50)\n",
    "#Master_enhancers_merged.to_csv(\"/home/xg1/CHEERS/epimap/regulatory_elements/Master_enhancers.bed\",\n",
    " #                            header=False, sep=\"\\t\", index=False)\n",
    "#Master_enhancers_merged.saveas(\"/home/xg1/CHEERS/epimap/regulatory_elements/#Master_enhancers.sorted.merged.bed\")\n",
    "\n",
    "end_time1 = time.time()\n",
    "running_time = (end_time1 - start_time1)\n",
    "print(running_time)\n",
    "\n"
   ]
  },
  {
   "cell_type": "code",
   "execution_count": null,
   "metadata": {},
   "outputs": [],
   "source": [
    "for cell in Cell_types_to_run:\n",
    "    print(cell+\": \"+str(len(Get_Sample_IDs(cell))))"
   ]
  },
  {
   "cell_type": "code",
   "execution_count": null,
   "metadata": {},
   "outputs": [],
   "source": [
    "Cell_counts=[]\n",
    "for cell in Cell_types_to_run:\n",
    "    Cell_counts.append(len(Get_Sample_IDs(cell)))\n",
    "\n",
    "print(Cell_counts)"
   ]
  },
  {
   "cell_type": "code",
   "execution_count": null,
   "metadata": {},
   "outputs": [],
   "source": [
    "plt.bar(Cell_types_to_run, Cell_counts)\n",
    "plt.xticks(rotation=90)"
   ]
  },
  {
   "cell_type": "code",
   "execution_count": null,
   "metadata": {},
   "outputs": [],
   "source": [
    "Master_enhancers=pybedtools.BedTool(\"../output/Master_enhancers.bed\")\n",
    "Master_enhancers_sorted=Master_enhancers.sort()\n",
    "Master_enhancers_merged=Master_enhancers_sorted.merge(d=50)"
   ]
  },
  {
   "cell_type": "code",
   "execution_count": null,
   "metadata": {
    "collapsed": true
   },
   "outputs": [],
   "source": [
    "\n",
    "Master_merged_pd=pd.read_table(\"/home/xg1/CHEERS/epimap/regulatory_elements/Master_enhancers.sorted.merged.bed\")\n",
    "# Loop through bigwig URLs and get signal counts in merged peaks\n",
    "\n",
    "for cell in Cell_types_to_run:\n",
    "    cell_IDs=Get_Sample_IDs(cell)[0:5]\n",
    "    for sample_ID in cell_IDs:\n",
    "        BW_URL=Get_BW_URLs(sample_ID, \"DNase-seq\")\n",
    "        Current_BW=pbw.open(BW_URL)\n",
    "        Signals=Master_merged_pd.apply(lambda x: print(sum(Current_BW.values(x['chr'], x['start'],\n",
    "                                                               x['end']))), axis=1)\n",
    "        Master_merged_pd=pd.concat([Master_merged_pd, Signals], axis=1)\n",
    "\n",
    "\n",
    "    \n",
    "\n",
    "Digestive_URLs=Get_bigwig_URLs(Celltype='Digestive', Chromatin_mark='H3K27ac')\n",
    "Tcell_URLs=Get_bigwig_URLs(Celltype='Blood & T-cell', Chromatin_mark='H3K27ac')\n",
    "# Write to file for CHEERS_normalize"
   ]
  },
  {
   "cell_type": "code",
   "execution_count": null,
   "metadata": {
    "collapsed": true
   },
   "outputs": [],
   "source": []
  },
  {
   "cell_type": "code",
   "execution_count": 21,
   "metadata": {},
   "outputs": [],
   "source": [
    "Master_merged_pd=pd.read_table(\"../output/Master_enhancers.sorted.merged.bed\", \n",
    "                              header=None, names=['chr', 'start', 'end'])\n",
    "# Loop through bigwig URLs and get signal counts in merged peaks\n",
    "#Cell_types_to_run=epimap_meta['GROUP'].unique()\n",
    "for cell in Cell_types_to_run:\n",
    "    cell_IDs=Get_Sample_IDs(cell)\n",
    "    for sample_ID in cell_IDs:\n",
    "        BW_URL=Get_BW_URLs(sample_ID, \"DNase-seq\")\n",
    "        Current_BW=pbw.open(BW_URL)\n",
    "        Signals=Master_merged_pd.apply(lambda x: sum(Current_BW.values(x['chr'], x['start'],\n",
    "                                                               x['end'])), axis=1)\n",
    "        Master_merged_pd['signal']=Signals\n",
    "\n",
    "        Master_merged_pd.to_csv(\"../output/DNase_ReadsInPeaks/\"+sample_ID+\"_ReadsInPeaks.txt\",\n",
    "                                sep=\"\\t\", index=False, header=['chrom', 'start', 'end', sample_ID])\n",
    "\n",
    "    "
   ]
  },
  {
   "cell_type": "code",
   "execution_count": null,
   "metadata": {},
   "outputs": [],
   "source": [
    "Master_merged_pd"
   ]
  },
  {
   "cell_type": "code",
   "execution_count": null,
   "metadata": {},
   "outputs": [],
   "source": [
    "start_time1 = time.time()\n",
    "Master_merged_pd=pd.read_table(\"../tmp/temp_enhancer.bed.gz\", \n",
    "                              header=0)\n",
    "BW_URL=Get_BW_URLs(\"BSS00001\", \"DNase-seq\")\n",
    "Current_BW=pbw.open(BW_URL)\n",
    "Signals=Master_merged_pd.apply(lambda x: sum(Current_BW.values(x['chr'], x['start'],\n",
    "                                                               x['end'])), axis=1)\n",
    "Master_merged_pd[\"BSS00001\"]=Signals\n",
    "\n",
    "end_time1 = time.time()\n",
    "running_time = (end_time1 - start_time1)\n",
    "print(running_time)\n"
   ]
  },
  {
   "cell_type": "code",
   "execution_count": null,
   "metadata": {},
   "outputs": [],
   "source": [
    "\n",
    "\n"
   ]
  },
  {
   "cell_type": "code",
   "execution_count": null,
   "metadata": {},
   "outputs": [],
   "source": []
  },
  {
   "cell_type": "code",
   "execution_count": 58,
   "metadata": {},
   "outputs": [],
   "source": []
  },
  {
   "cell_type": "code",
   "execution_count": null,
   "metadata": {
    "collapsed": true
   },
   "outputs": [],
   "source": []
  },
  {
   "cell_type": "code",
   "execution_count": null,
   "metadata": {},
   "outputs": [],
   "source": [
    "Study_table=pd.read_json(\"/home/xg1/genetics-v2d-data/tmp/210601/merged_study_table.json\",orient='records', lines=True)\n",
    "\n",
    "Study_table.head()\n",
    "\n",
    "Bowels_study_table=Study_table.loc[Study_table['trait_reported'].str.contains(\n",
    "        'IBD|Bowel', flags=re.I, regex=True)]\n",
    "print(Bowels_study_table)"
   ]
  },
  {
   "cell_type": "code",
   "execution_count": null,
   "metadata": {},
   "outputs": [],
   "source": [
    "IBD_SNPs=pd.read_csv(\"/home/xg1/CHEERS/GCST004131_finemapping.tsv\", \n",
    "                     sep=\"\\t\", \n",
    "                     names=[\"study_id\", \"lead_chrom\", \"lead_pos\", \"lead_ref\", \"lead_alt\", \"tag_chrom\",\n",
    "                            \"tag_pos\", \"tag_ref\", \"tag_alt\", \"log10_ABF\", \"posterior_prob\"])\n",
    "print(IBD_SNPs)"
   ]
  },
  {
   "cell_type": "code",
   "execution_count": null,
   "metadata": {},
   "outputs": [],
   "source": [
    "import matplotlib.pyplot as plt\n",
    "plt.hist(IBD_SNPs['posterior_prob'], range=(0, 0.1), bins=100)\n",
    "\n",
    "unique_sets=IBD_SNPs.lead_pos.unique()"
   ]
  },
  {
   "cell_type": "code",
   "execution_count": null,
   "metadata": {},
   "outputs": [],
   "source": [
    "print(len(unique_sets))\n",
    "#print(IBD_SNPs.loc[IBD_SNPs['lead_pos'] == unique_sets[0]])\n",
    "#for i in unique_sets:\n",
    "#    print(i)\n",
    "df_test=IBD_SNPs.loc[IBD_SNPs['lead_pos'] == unique_sets[0]]\n",
    "print(df_test.shape[0])\n",
    "print(df_test['posterior_prob'][0])"
   ]
  },
  {
   "cell_type": "code",
   "execution_count": 105,
   "metadata": {},
   "outputs": [],
   "source": [
    "Credset_size=[]\n",
    "Top_set_PP=[]\n",
    "\n",
    "for i in unique_sets:\n",
    "    Current_credset=IBD_SNPs.loc[IBD_SNPs['lead_pos'] == i].reset_index()\n",
    "    Credset_size.append(Current_credset.shape[0])\n",
    "    Top_set_PP.append(Current_credset['posterior_prob'][0])\n",
    "    \n",
    "    \n"
   ]
  },
  {
   "cell_type": "code",
   "execution_count": null,
   "metadata": {},
   "outputs": [],
   "source": [
    "plt.scatter(Credset_size, Top_set_PP)\n",
    "\n",
    "plt.xlim(0, 210)\n",
    "plt.ylabel(\"Top Credset Posterior\")\n",
    "plt.xlabel(\"Credset size (n SNPs)\")"
   ]
  },
  {
   "cell_type": "code",
   "execution_count": null,
   "metadata": {},
   "outputs": [],
   "source": [
    "Filtered_Credset=IBD_SNPs.loc[IBD_SNPs['posterior_prob'] > 0.01].reset_index()\n",
    "print(Filtered_Credset)\n",
    "len(Filtered_Credset.lead_pos.unique())\n"
   ]
  },
  {
   "cell_type": "code",
   "execution_count": null,
   "metadata": {},
   "outputs": [],
   "source": [
    "Credset_size=[]\n",
    "Top_set_PP=[]\n",
    "\n",
    "for i in unique_sets:\n",
    "    Current_credset=Filtered_Credset.loc[Filtered_Credset['lead_pos'] == i].reset_index()\n",
    "    Credset_size.append(Current_credset.shape[0])\n",
    "    Top_set_PP.append(Current_credset['posterior_prob'][0])\n",
    "    \n",
    "plt.scatter(Credset_size, Top_set_PP)\n",
    "plt.xlim(0, 210)\n",
    "plt.ylabel(\"Top Credset Posterior\")\n",
    "plt.xlabel(\"Credset size (n SNPs)\")"
   ]
  },
  {
   "cell_type": "code",
   "execution_count": null,
   "metadata": {},
   "outputs": [],
   "source": [
    "from collections import OrderedDict\n",
    "cols = OrderedDict([\n",
    "    ('tag_chrom', 'chrom'),\n",
    "    ('tag_pos', 'pos'),\n",
    "    ('lead_pos', 'end'),\n",
    "    ('posterior_prob', 'PP')\n",
    "    ])\n",
    "\n",
    "Filtered_Credset_bed=Filtered_Credset.loc[:,list(cols.keys())].rename(columns=cols)\n",
    "Filtered_Credset_bed['end']=Filtered_Credset_bed['pos']+1\n",
    "#Filtered_Credset_bed['chrom']='chr'+Filtered_Credset_bed['chrom'].str()\n",
    "print(Filtered_Credset_bed)\n",
    "\n",
    "Filtered_Credset_bed.to_csv(\"/home/xg1/CHEERS/input_SNPs/Filtered_GCST004131_hg38.bed\", \n",
    "                            sep=\"\\t\", header=False, index=False)\n",
    "\n"
   ]
  },
  {
   "cell_type": "code",
   "execution_count": 109,
   "metadata": {},
   "outputs": [
    {
     "name": "stdout",
     "output_type": "stream",
     "text": [
      "      chrom        pos        end        PP\n",
      "0         1    8108201    8108202  0.079383\n",
      "1         1    8092042    8092043  0.063345\n",
      "2         1    8120150    8120151  0.057142\n",
      "3         1    8109690    8109691  0.055842\n",
      "4         1    8108933    8108934  0.052517\n",
      "...     ...        ...        ...       ...\n",
      "3268      9  136382607  136382608  0.037406\n",
      "3269      9  136377295  136377296  0.037316\n",
      "3270      9  136378050  136378051  0.034006\n",
      "3271      9  136377398  136377399  0.033819\n",
      "3272      9  136387395  136387396  0.030455\n",
      "\n",
      "[3273 rows x 4 columns]\n"
     ]
    }
   ],
   "source": [
    "IBD_SNPs_bed=IBD_SNPs.loc[:,list(cols.keys())].rename(columns=cols)\n",
    "IBD_SNPs_bed['end']=IBD_SNPs_bed['pos']+1\n",
    "#Filtered_Credset_bed['chrom']='chr'+Filtered_Credset_bed['chrom'].str()\n",
    "print(IBD_SNPs_bed)\n",
    "\n",
    "IBD_SNPs_bed.to_csv(\"/home/xg1/CHEERS/input_SNPs/GCST004131_hg38.bed\", \n",
    "                            sep=\"\\t\", header=False, index=False)\n"
   ]
  },
  {
   "cell_type": "code",
   "execution_count": 131,
   "metadata": {},
   "outputs": [
    {
     "name": "stdout",
     "output_type": "stream",
     "text": [
      "     Sample         P\n",
      "0  BSS01666  0.138431\n",
      "1  BSS01667  0.027658\n",
      "2  BSS01688  0.572942\n",
      "3  BSS01665  0.082752\n",
      "4  BSS00092  0.734281\n",
      "5  BSS00091  0.876472\n",
      "6  BSS00090  0.834271\n",
      "7  BSS01684  0.273462\n",
      "8  BSS01687  0.123318\n"
     ]
    }
   ],
   "source": [
    "#Plotting CHEERS outputs\n",
    "Raw_IBD_P=pd.read_csv(\"/home/xg1/CHEERS/Results/Raw_IBD_disease_enrichment_pValues.txt\",\n",
    "                      sep=\"\\t\", header=None, names=[\"Sample\", \"P\"])\n",
    "Filtered_IBD_P=pd.read_csv(\"/home/xg1/CHEERS/Results/Filtered_IBD_disease_enrichment_pValues.txt\",\n",
    "                      sep=\"\\t\", header=None, names=[\"Sample\", \"P\"])\n",
    "print(Raw_IBD_P)"
   ]
  },
  {
   "cell_type": "code",
   "execution_count": 149,
   "metadata": {},
   "outputs": [
    {
     "name": "stdout",
     "output_type": "stream",
     "text": [
      "Adipose\n",
      "Adipose\n",
      "Blood & T-cell\n",
      "Adipose\n",
      "Brain\n",
      "Brain\n",
      "Brain\n",
      "Blood & T-cell\n",
      "Blood & T-cell\n",
      "     Sample         P           GROUP\n",
      "0  BSS01666  0.138431         Adipose\n",
      "1  BSS01667  0.027658         Adipose\n",
      "2  BSS01688  0.572942  Blood & T-cell\n",
      "3  BSS01665  0.082752         Adipose\n",
      "4  BSS00092  0.734281           Brain\n",
      "5  BSS00091  0.876472           Brain\n",
      "6  BSS00090  0.834271           Brain\n",
      "7  BSS01684  0.273462  Blood & T-cell\n",
      "8  BSS01687  0.123318  Blood & T-cell\n"
     ]
    }
   ],
   "source": [
    "Sample_group=[]\n",
    "for i in Raw_IBD_P['Sample']:\n",
    "    tmp=epimap_meta.loc[epimap_meta['id'].str.contains(i)]\n",
    "    print(tmp.iloc[0]['GROUP'])\n",
    "    Sample_group.append(tmp.iloc[0]['GROUP'])\n",
    "    \n",
    "Raw_IBD_P['GROUP']=Sample_group\n",
    "print(Raw_IBD_P)"
   ]
  },
  {
   "cell_type": "code",
   "execution_count": 94,
   "metadata": {
    "scrolled": true
   },
   "outputs": [],
   "source": [
    "def add_GROUP(CHEERS_res):\n",
    "    Sample_group=[]\n",
    "    Sample_info=[]\n",
    "    for i in CHEERS_res['Sample']:\n",
    "        tmp=epimap_meta.loc[epimap_meta['id'].str.contains(i)]\n",
    "        #print(tmp.iloc[0]['GROUP'])\n",
    "        Sample_group.append(tmp.iloc[0]['GROUP'])\n",
    "        Sample_info.append(tmp.iloc[0]['infoline'])\n",
    "    CHEERS_res['GROUP']=Sample_group\n",
    "    CHEERS_res['infoline']=Sample_info\n",
    "    return(CHEERS_res)\n",
    "\n",
    "#Raw_IBD_P=add_GROUP(Raw_IBD_P)\n",
    "#Filtered_IBD_P=add_GROUP(Filtered_IBD_P)\n",
    "#print(Filtered_IBD_P)"
   ]
  },
  {
   "cell_type": "code",
   "execution_count": 95,
   "metadata": {},
   "outputs": [
    {
     "name": "stdout",
     "output_type": "stream",
     "text": [
      "      Sample         P           GROUP              infoline\n",
      "0   BSS00228  0.520627       Digestive          COLON MUCOSA\n",
      "1   BSS01397  0.995545            Bone            OSTEOBLAST\n",
      "2   BSS00316  0.334695       Digestive             ESOPHAGUS\n",
      "3   BSS00189  0.013070  Blood & T-cell            CD4 T CELL\n",
      "4   BSS00188  0.068106  Blood & T-cell            CD4 T CELL\n",
      "5   BSS00705  0.961728            Bone    BONE MARROW STROMA\n",
      "6   BSS00270  0.429286       Digestive       DUODENUM MUCOSA\n",
      "7   BSS00185  0.000740  Blood & T-cell            CD4 T CELL\n",
      "8   BSS00271  0.119898       Digestive       DUODENUM MUCOSA\n",
      "9   BSS00186  0.001875  Blood & T-cell            CD4 T CELL\n",
      "10  BSS00183  0.001151  Blood & T-cell            CD4 T CELL\n",
      "11  BSS00227  0.693871       Digestive          COLON MUCOSA\n",
      "12  BSS00084  0.740271            Bone              BONE ARM\n",
      "13  BSS00078  0.168208           Brain         ANGULAR GYRUS\n",
      "14  BSS00090  0.944850           Brain  ASTROCYTE CEREBELLUM\n",
      "15  BSS00071  0.914545           Brain           AMMONS HORN\n",
      "16  BSS01154  0.979883            Bone              BONE LEG\n",
      "17  BSS00330  0.999090            Bone            BONE FEMUR\n",
      "18  BSS00089  0.992390           Brain             ASTROCYTE\n",
      "19  BSS00077  0.170283           Brain         ANGULAR GYRUS\n"
     ]
    }
   ],
   "source": [
    "Corrected_IBD_P=pd.read_csv(\"/home/xg1/CHEERS/Results/IBD_Correct_DNase_disease_enrichment_pValues.txt\",\n",
    "                      sep=\"\\t\", header=None, names=[\"Sample\", \"P\"])\n",
    "Corrected_IBD_P=add_GROUP(Corrected_IBD_P)\n",
    "print(Corrected_IBD_P)"
   ]
  },
  {
   "cell_type": "code",
   "execution_count": 96,
   "metadata": {},
   "outputs": [
    {
     "name": "stdout",
     "output_type": "stream",
     "text": [
      "      Sample         P           GROUP              infoline\n",
      "0   BSS00228  0.001784       Digestive          COLON MUCOSA\n",
      "1   BSS01397  0.998806            Bone            OSTEOBLAST\n",
      "2   BSS00316  0.001403       Digestive             ESOPHAGUS\n",
      "3   BSS00189  0.002817  Blood & T-cell            CD4 T CELL\n",
      "4   BSS00188  0.127540  Blood & T-cell            CD4 T CELL\n",
      "5   BSS00705  0.907412            Bone    BONE MARROW STROMA\n",
      "6   BSS00270  0.005496       Digestive       DUODENUM MUCOSA\n",
      "7   BSS00185  0.000047  Blood & T-cell            CD4 T CELL\n",
      "8   BSS00271  0.000715       Digestive       DUODENUM MUCOSA\n",
      "9   BSS00186  0.003825  Blood & T-cell            CD4 T CELL\n",
      "10  BSS00183  0.002605  Blood & T-cell            CD4 T CELL\n",
      "11  BSS00227  0.060636       Digestive          COLON MUCOSA\n",
      "12  BSS00084  0.609663            Bone              BONE ARM\n",
      "13  BSS00078  0.028365           Brain         ANGULAR GYRUS\n",
      "14  BSS00090  0.913756           Brain  ASTROCYTE CEREBELLUM\n",
      "15  BSS00071  0.212923           Brain           AMMONS HORN\n",
      "16  BSS01154  0.938693            Bone              BONE LEG\n",
      "17  BSS00330  0.991317            Bone            BONE FEMUR\n",
      "18  BSS00089  0.972586           Brain             ASTROCYTE\n",
      "19  BSS00077  0.008570           Brain         ANGULAR GYRUS\n"
     ]
    }
   ],
   "source": [
    "Corrected_IBD_P=pd.read_csv(\"/home/xg1/CHEERS/Results/IBD_GCST_DNase_disease_enrichment_pValues.txt\",\n",
    "                      sep=\"\\t\", header=None, names=[\"Sample\", \"P\"])\n",
    "Corrected_IBD_P=add_GROUP(Corrected_IBD_P)\n",
    "print(Corrected_IBD_P)"
   ]
  },
  {
   "cell_type": "code",
   "execution_count": 9,
   "metadata": {},
   "outputs": [
    {
     "data": {
      "image/png": "[encoded data removed]",
      "text/plain": "<Figure size 432x288 with 1 Axes>"
     },
     "metadata": {
      "needs_background": "light"
     },
     "output_type": "display_data"
    }
   ],
   "source": [
    "import pandas as pd\n",
    "#from scipy.stats import norm\n",
    "\n",
    "import pybedtools\n",
    "import re\n",
    "#import matplotlib as plt\n",
    "import pyBigWig as pbw\n",
    "import time\n",
    "import urllib.request\n",
    "import matplotlib.pyplot as plt\n",
    "import numpy as np\n",
    "\n",
    "epimap_meta_path=\"../configs/main_metadata_table.tsv\"\n",
    "epimap_meta=pd.read_csv(epimap_meta_path, sep=\"\\t\")\n",
    "\n",
    "def add_GROUP(CHEERS_res):\n",
    "    Sample_group=[]\n",
    "    Sample_info=[]\n",
    "    for i in CHEERS_res['Sample']:\n",
    "        tmp=epimap_meta.loc[epimap_meta['id'].str.contains(i)]\n",
    "        #print(tmp.iloc[0]['GROUP'])\n",
    "        Sample_group.append(tmp.iloc[0]['GROUP'])\n",
    "        Sample_info.append(tmp.iloc[0]['infoline'])\n",
    "    CHEERS_res['GROUP']=Sample_group\n",
    "    CHEERS_res['infoline']=Sample_info\n",
    "    return(CHEERS_res)\n",
    "\n",
    "def Plot_CHEERS_result(input_path, out_prefix, out_dir=\"../notebooks/\"):\n",
    "    CHEERS_result=pd.read_csv(input_path,\n",
    "                       sep=\"\\t\", header=None, names=[\"Sample\", \"P\"])\n",
    "    CHEERS_result=add_GROUP(CHEERS_result)\n",
    "\n",
    "    CHEERS_result['name']=CHEERS_result.apply(lambda x: x['Sample']+\"_\"+str(x['GROUP']), axis=1)\n",
    "    \n",
    "    plt.xticks(rotation=90)\n",
    "    plt.title(\"CHEERS \"+out_prefix+\" enrichment\")\n",
    "    plt.ylabel(\"-log10(P)\")\n",
    "    plt.bar(CHEERS_result['name'], -np.log10(CHEERS_result['P']), )\n",
    "    plt.savefig(out_dir+\"CHEERS_\"+out_prefix+\".png\")\n",
    "\n",
    "Plot_CHEERS_result(\"/Users/xg1/Downloads/CHEERS/H3K27ac_epimap_comparison_results_09082021/Alzheimers_disease_enrichment_pValues.txt\", out_prefix=\"Alzheimers_hg19\")"
   ]
  },
  {
   "cell_type": "code",
   "execution_count": 12,
   "metadata": {},
   "outputs": [
    {
     "data": {
      "image/png": "[encoded data removed]",
      "text/plain": "<Figure size 432x288 with 1 Axes>"
     },
     "metadata": {
      "needs_background": "light"
     },
     "output_type": "display_data"
    }
   ],
   "source": [
    "LDSC_results=pd.read_csv(\"/Users/xg1/Downloads/ldsc/Comparison_IBD_Epimap.results\", sep=\"\\t\", header=0)\n",
    "LDSC_results['Sample']=LDSC_results.apply(lambda x: x['Category'].split(\"L2\")[0], axis=1)\n",
    "LDSC_results=add_GROUP(LDSC_results)\n",
    "\n",
    "LDSC_results['name']=LDSC_results.apply(lambda x: x['Sample']+\"_\"+str(x['GROUP']), axis=1)\n",
    "\n",
    "plt.xticks(rotation=90)\n",
    "plt.title(\"LDSC \"+\"IBD\"+\" enrichment\")\n",
    "plt.ylabel(\"-log10(P)\")\n",
    "plt.bar(LDSC_results['name'], -np.log10(LDSC_results['Enrichment_p']), )\n",
    "plt.savefig(\"../notebooks/LDSC_\"+\"IBD\"+\".png\")\n",
    "#print(LDSC_results)"
   ]
  },
  {
   "cell_type": "code",
   "execution_count": 32,
   "metadata": {},
   "outputs": [
    {
     "data": {
      "image/png": "[encoded data removed]",
      "text/plain": "<Figure size 432x288 with 1 Axes>"
     },
     "metadata": {
      "needs_background": "light"
     },
     "output_type": "display_data"
    }
   ],
   "source": [
    "Plot_CHEERS_result(\"/Users/xg1/Downloads/CHEERS/H3K27ac_epimap_comparison_results_09082021/Atopic_disease_enrichment_pValues.txt\", out_prefix=\"Atopic_derma_hg19\")"
   ]
  },
  {
   "cell_type": "code",
   "execution_count": 33,
   "metadata": {},
   "outputs": [
    {
     "data": {
      "image/png": "[encoded data removed]",
      "text/plain": "<Figure size 432x288 with 1 Axes>"
     },
     "metadata": {
      "needs_background": "light"
     },
     "output_type": "display_data"
    }
   ],
   "source": [
    "Plot_CHEERS_result(\"/Users/xg1/Downloads/CHEERS/H3K27ac_epimap_comparison_results_09082021/IBD_disease_enrichment_pValues.txt\", out_prefix=\"IBD_hg19\")"
   ]
  },
  {
   "cell_type": "code",
   "execution_count": 34,
   "metadata": {},
   "outputs": [
    {
     "data": {
      "image/png": "[encoded data removed]",
      "text/plain": "<Figure size 432x288 with 1 Axes>"
     },
     "metadata": {
      "needs_background": "light"
     },
     "output_type": "display_data"
    }
   ],
   "source": [
    "Plot_CHEERS_result(\"/Users/xg1/Downloads/CHEERS/H3K27ac_epimap_comparison_results_09082021/T2D_disease_enrichment_pValues.txt\", out_prefix=\"T2D_hg19\")\n"
   ]
  },
  {
   "cell_type": "code",
   "execution_count": null,
   "metadata": {},
   "outputs": [
    {
     "data": {
      "image/png": "[encoded data removed]",
      "text/plain": "<Figure size 432x288 with 1 Axes>"
     },
     "metadata": {
      "needs_background": "light"
     },
     "output_type": "display_data"
    }
   ],
   "source": [
    "Plot_CHEERS_result(\"/Users/xg1/Downloads/CHEERS/H3K27ac_epimap_comparison_results_09082021/T1D_disease_enrichment_pValues.txt\", out_prefix=\"T1D_hg19\")"
   ]
  },
  {
   "cell_type": "code",
   "execution_count": null,
   "metadata": {},
   "outputs": [
    {
     "data": {
      "image/png": "[encoded data removed]",
      "text/plain": "<Figure size 432x288 with 1 Axes>"
     },
     "metadata": {
      "needs_background": "light"
     },
     "output_type": "display_data"
    }
   ],
   "source": [
    "Plot_CHEERS_result(\"/Users/xg1/Downloads/CHEERS/H3K27ac_epimap_comparison_results_09082021/RA_disease_enrichment_pValues.txt\", out_prefix=\"RA_hg19\")"
   ]
  },
  {
   "cell_type": "code",
   "execution_count": null,
   "metadata": {},
   "outputs": [],
   "source": []
  }
 ],
 "metadata": {
  "kernelspec": {
   "display_name": "Python 3.7.3 64-bit ('SNP_enrich': conda)",
   "name": "python373jvsc74a57bd09a218f4a58cb44d8651aa34d01362d0132a49afe72d8eee3976ac6216d69f221"
  },
  "language_info": {
   "codemirror_mode": {
    "name": "ipython",
    "version": 3
   },
   "file_extension": ".py",
   "mimetype": "text/x-python",
   "name": "python",
   "nbconvert_exporter": "python",
   "pygments_lexer": "ipython3",
   "version": "3.7.3"
  }
 },
 "nbformat": 4,
 "nbformat_minor": 1
}