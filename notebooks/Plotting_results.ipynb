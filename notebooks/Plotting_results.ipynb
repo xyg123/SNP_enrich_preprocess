{
 "cells": [
  {
   "cell_type": "code",
   "execution_count": null,
   "metadata": {},
   "outputs": [],
   "source": [
    "import os\n",
    "import sys\n",
    "import numpy as np\n",
    "import pandas as pd\n",
    "#from scipy.stats import norm\n",
    "\n",
    "import pybedtools\n",
    "import re\n",
    "#import matplotlib as plt\n",
    "import pyBigWig as pbw\n",
    "import time\n",
    "import urllib.request\n",
    "import matplotlib.pyplot as plt\n",
    "import json\n",
    "import requests\n",
    "\n",
    "imputed_urls_path=\"../configs/Imputed_urls.txt\"\n",
    "observed_urls_path=\"../configs/Observed_urls.txt\"\n",
    "\n",
    "Enhancer_urls=pd.read_csv(\"../configs/enhancers_urls.txt\",\n",
    "                        header=None, names=['filename'])\n",
    "Promoter_urls=pd.read_csv(\"../configs/promoters_urls.txt\",\n",
    "                        header=None, names=['filename'])\n",
    "epimap_meta_path=\"../configs/main_metadata_table.tsv\"\n",
    "\n",
    "epimap_meta=pd.read_csv(epimap_meta_path, sep=\"\\t\")\n",
    "\n",
    "def strip_to_sample(input_url):\n",
    "    return(input_url.split(sep=\"_\")[0])\n",
    "\n",
    "Promoter_urls_samples=Promoter_urls.apply(lambda x: strip_to_sample(x['filename']), axis=1)\n",
    "Enhancer_urls_samples=Enhancer_urls.apply(lambda x: strip_to_sample(x['filename']), axis=1)\n",
    "\n",
    "epimap_meta=epimap_meta.loc[epimap_meta['id'].isin(Enhancer_urls_samples) & epimap_meta['id'].isin(Promoter_urls_samples)]"
   ]
  },
  {
   "cell_type": "code",
   "execution_count": null,
   "metadata": {},
   "outputs": [],
   "source": []
  }
 ],
 "metadata": {
  "kernelspec": {
   "display_name": "Python 3.7.3 64-bit ('SNP_enrich': conda)",
   "name": "python373jvsc74a57bd09a218f4a58cb44d8651aa34d01362d0132a49afe72d8eee3976ac6216d69f221"
  },
  "language_info": {
   "name": "python",
   "version": ""
  },
  "orig_nbformat": 2
 },
 "nbformat": 4,
 "nbformat_minor": 2
}