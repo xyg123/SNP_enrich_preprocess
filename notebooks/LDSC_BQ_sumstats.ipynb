{
 "cells": [
  {
   "cell_type": "code",
   "execution_count": null,
   "metadata": {},
   "outputs": [],
   "source": [
    "## Use Bigquery to automatically process GWAS with sumstats.\n",
    "\n",
    "import pandas as pd\n",
    "from sqlalchemy import text\n",
    "from sqlalchemy import create_engine\n",
    "\n",
    "from google.cloud import bigquery\n",
    "\n",
    "client = bigquery.Client()\n",
    "\n",
    "# # Perform a query.\n",
    "# QUERY = (\n",
    "#     'WITH\n",
    "#   SNP_info AS (\n",
    "#   SELECT\n",
    "#     CONCAT(CAST(chrom AS string), CAST(pos AS string), CAST(ref AS string), CAST(alt AS string)) AS identifier,\n",
    "#     ref,\n",
    "#     alt,\n",
    "#     n_total,\n",
    "#     pval,\n",
    "#     eaf\n",
    "#   FROM\n",
    "#     `open-targets-genetics-dev.Jack_sumstats.GCST006867` )\n",
    "# SELECT\n",
    "#   *\n",
    "# FROM\n",
    "#   SNP_info\n",
    "# JOIN (\n",
    "#   SELECT\n",
    "#     CONCAT(CAST(chr_id AS string), CAST(position AS string), CAST(ref_allele AS string), CAST(alt_allele AS string)) AS identifier,\n",
    "#     rs_id\n",
    "#   FROM\n",
    "#     `open-targets-genetics.210608.variants` ) variants\n",
    "# ON\n",
    "#   SNP_info.identifier = variants.identifier')\n",
    "\n",
    "# Perform a query.\n",
    "QUERY = (\n",
    "    'SELECT name FROM `bigquery-public-data.usa_names.usa_1910_2013` '\n",
    "    'WHERE state = \"TX\" '\n",
    "    'LIMIT 100')\n",
    "    \n",
    "query_job = client.query(QUERY)  # API request\n",
    "rows = query_job.result()  # Waits for query to finish\n",
    "\n",
    "for row in rows:\n",
    "    print(row.name)\n"
   ]
  },
  {
   "cell_type": "code",
   "execution_count": 8,
   "metadata": {},
   "outputs": [],
   "source": [
    "def implicit():\n",
    "    from google.cloud import storage\n",
    "\n",
    "    # If you don't specify credentials when constructing the client, the\n",
    "    # client library will look for credentials in the environment.\n",
    "    storage_client = storage.Client.from_service_account_json(\"/Users/xg1/Downloads/open-targets-genetics-eaa50bdaa2f5.json\")\n",
    "\n",
    "    # Make an authenticated API request\n",
    "    buckets = list(storage_client.list_buckets())\n",
    "    print(buckets)\n"
   ]
  },
  {
   "cell_type": "code",
   "execution_count": null,
   "metadata": {},
   "outputs": [],
   "source": [
    "implicit()"
   ]
  },
  {
   "cell_type": "code",
   "execution_count": 14,
   "metadata": {},
   "outputs": [
    {
     "data": {
      "text/html": "<div>\n<style scoped>\n    .dataframe tbody tr th:only-of-type {\n        vertical-align: middle;\n    }\n\n    .dataframe tbody tr th {\n        vertical-align: top;\n    }\n\n    .dataframe thead th {\n        text-align: right;\n    }\n</style>\n<table border=\"1\" class=\"dataframe\">\n  <thead>\n    <tr style=\"text-align: right;\">\n      <th></th>\n      <th>study_id</th>\n      <th>pmid</th>\n      <th>pub_date</th>\n      <th>pub_journal</th>\n      <th>pub_title</th>\n      <th>pub_author</th>\n      <th>trait_reported</th>\n      <th>trait_efos</th>\n      <th>ancestry_initial</th>\n      <th>ancestry_replication</th>\n      <th>n_initial</th>\n      <th>n_replication</th>\n      <th>n_cases</th>\n      <th>trait_category</th>\n      <th>num_assoc_loci</th>\n      <th>has_sumstats</th>\n    </tr>\n  </thead>\n  <tbody>\n    <tr>\n      <th>0</th>\n      <td>FINNGEN_R5_AB1_AMOEBIASIS</td>\n      <td></td>\n      <td>2021-5-11</td>\n      <td></td>\n      <td></td>\n      <td>FINNGEN_R5</td>\n      <td>Amoebiasis</td>\n      <td>[EFO_0007144]</td>\n      <td>[European=197385]</td>\n      <td>[]</td>\n      <td>197385</td>\n      <td>0.0</td>\n      <td>87.0</td>\n      <td>Disease</td>\n      <td>0</td>\n      <td>True</td>\n    </tr>\n    <tr>\n      <th>1</th>\n      <td>FINNGEN_R5_AB1_ANOGENITAL_HERPES_SIMPLEX</td>\n      <td></td>\n      <td>2021-5-11</td>\n      <td></td>\n      <td></td>\n      <td>FINNGEN_R5</td>\n      <td>Anogenital herpesviral [herpes simplex] infection</td>\n      <td>[EFO_0007282]</td>\n      <td>[European=213843]</td>\n      <td>[]</td>\n      <td>213843</td>\n      <td>0.0</td>\n      <td>891.0</td>\n      <td>Disease of genitourinary system</td>\n      <td>0</td>\n      <td>True</td>\n    </tr>\n    <tr>\n      <th>2</th>\n      <td>FINNGEN_R5_AB1_ARTHROPOD</td>\n      <td></td>\n      <td>2021-5-11</td>\n      <td></td>\n      <td></td>\n      <td>FINNGEN_R5</td>\n      <td>Arthropod-borne viral fevers and viral haemorr...</td>\n      <td>[EFO_0000763, MONDO_0018087]</td>\n      <td>[European=218792]</td>\n      <td>[]</td>\n      <td>218792</td>\n      <td>0.0</td>\n      <td>1450.0</td>\n      <td>Disease</td>\n      <td>0</td>\n      <td>True</td>\n    </tr>\n    <tr>\n      <th>3</th>\n      <td>FINNGEN_R5_AB1_ASPERGILLOSIS</td>\n      <td></td>\n      <td>2021-5-11</td>\n      <td></td>\n      <td></td>\n      <td>FINNGEN_R5</td>\n      <td>Aspergillosis</td>\n      <td>[EFO_0007157]</td>\n      <td>[European=214903]</td>\n      <td>[]</td>\n      <td>214903</td>\n      <td>0.0</td>\n      <td>87.0</td>\n      <td>Disease</td>\n      <td>0</td>\n      <td>True</td>\n    </tr>\n    <tr>\n      <th>4</th>\n      <td>FINNGEN_R5_AB1_ATYPICAL_CNS_VIRUS</td>\n      <td></td>\n      <td>2021-5-11</td>\n      <td></td>\n      <td></td>\n      <td>FINNGEN_R5</td>\n      <td>Atypical virus infections of central nervous s...</td>\n      <td>[MONDO_0024318]</td>\n      <td>[European=217783]</td>\n      <td>[]</td>\n      <td>217783</td>\n      <td>0.0</td>\n      <td>146.0</td>\n      <td>Uncategorised</td>\n      <td>0</td>\n      <td>True</td>\n    </tr>\n    <tr>\n      <th>...</th>\n      <td>...</td>\n      <td>...</td>\n      <td>...</td>\n      <td>...</td>\n      <td>...</td>\n      <td>...</td>\n      <td>...</td>\n      <td>...</td>\n      <td>...</td>\n      <td>...</td>\n      <td>...</td>\n      <td>...</td>\n      <td>...</td>\n      <td>...</td>\n      <td>...</td>\n      <td>...</td>\n    </tr>\n    <tr>\n      <th>36219</th>\n      <td>SAIGE_988</td>\n      <td></td>\n      <td>2018-10-24</td>\n      <td></td>\n      <td></td>\n      <td>UKB SAIGE</td>\n      <td>Toxic effect of noxious substances eaten as food</td>\n      <td>[EFO_0008546]</td>\n      <td>[European=408481]</td>\n      <td>[]</td>\n      <td>408481</td>\n      <td>0.0</td>\n      <td>114.0</td>\n      <td>Disease</td>\n      <td>0</td>\n      <td>True</td>\n    </tr>\n    <tr>\n      <th>36220</th>\n      <td>SAIGE_989</td>\n      <td></td>\n      <td>2018-10-24</td>\n      <td></td>\n      <td></td>\n      <td>UKB SAIGE</td>\n      <td>Toxic effect of other substances, chiefly nonm...</td>\n      <td>[EFO_0008546]</td>\n      <td>[European=408425]</td>\n      <td>[]</td>\n      <td>408425</td>\n      <td>0.0</td>\n      <td>58.0</td>\n      <td>Disease</td>\n      <td>0</td>\n      <td>True</td>\n    </tr>\n    <tr>\n      <th>36221</th>\n      <td>SAIGE_990</td>\n      <td></td>\n      <td>2018-10-24</td>\n      <td></td>\n      <td></td>\n      <td>UKB SAIGE</td>\n      <td>Effects radiation nos</td>\n      <td>[EFO_0009658]</td>\n      <td>[European=406425]</td>\n      <td>[]</td>\n      <td>406425</td>\n      <td>0.0</td>\n      <td>3130.0</td>\n      <td>Disease</td>\n      <td>0</td>\n      <td>True</td>\n    </tr>\n    <tr>\n      <th>36222</th>\n      <td>SAIGE_994</td>\n      <td></td>\n      <td>2018-10-24</td>\n      <td></td>\n      <td></td>\n      <td>UKB SAIGE</td>\n      <td>Sepsis and sirs</td>\n      <td>[HP_0100806]</td>\n      <td>[European=408961]</td>\n      <td>[]</td>\n      <td>408961</td>\n      <td>0.0</td>\n      <td>2811.0</td>\n      <td>Uncategorised</td>\n      <td>0</td>\n      <td>True</td>\n    </tr>\n    <tr>\n      <th>36223</th>\n      <td>SAIGE_994_2</td>\n      <td></td>\n      <td>2018-10-24</td>\n      <td></td>\n      <td></td>\n      <td>UKB SAIGE</td>\n      <td>Sepsis</td>\n      <td>[HP_0100806]</td>\n      <td>[European=408961]</td>\n      <td>[]</td>\n      <td>408961</td>\n      <td>0.0</td>\n      <td>2811.0</td>\n      <td>Uncategorised</td>\n      <td>0</td>\n      <td>True</td>\n    </tr>\n  </tbody>\n</table>\n<p>7664 rows × 16 columns</p>\n</div>",
      "text/plain": "                                       study_id pmid    pub_date pub_journal  \\\n0                     FINNGEN_R5_AB1_AMOEBIASIS        2021-5-11               \n1      FINNGEN_R5_AB1_ANOGENITAL_HERPES_SIMPLEX        2021-5-11               \n2                      FINNGEN_R5_AB1_ARTHROPOD        2021-5-11               \n3                  FINNGEN_R5_AB1_ASPERGILLOSIS        2021-5-11               \n4             FINNGEN_R5_AB1_ATYPICAL_CNS_VIRUS        2021-5-11               \n...                                         ...  ...         ...         ...   \n36219                                 SAIGE_988       2018-10-24               \n36220                                 SAIGE_989       2018-10-24               \n36221                                 SAIGE_990       2018-10-24               \n36222                                 SAIGE_994       2018-10-24               \n36223                               SAIGE_994_2       2018-10-24               \n\n      pub_title  pub_author  \\\n0                FINNGEN_R5   \n1                FINNGEN_R5   \n2                FINNGEN_R5   \n3                FINNGEN_R5   \n4                FINNGEN_R5   \n...         ...         ...   \n36219             UKB SAIGE   \n36220             UKB SAIGE   \n36221             UKB SAIGE   \n36222             UKB SAIGE   \n36223             UKB SAIGE   \n\n                                          trait_reported  \\\n0                                             Amoebiasis   \n1      Anogenital herpesviral [herpes simplex] infection   \n2      Arthropod-borne viral fevers and viral haemorr...   \n3                                          Aspergillosis   \n4      Atypical virus infections of central nervous s...   \n...                                                  ...   \n36219   Toxic effect of noxious substances eaten as food   \n36220  Toxic effect of other substances, chiefly nonm...   \n36221                              Effects radiation nos   \n36222                                    Sepsis and sirs   \n36223                                             Sepsis   \n\n                         trait_efos   ancestry_initial ancestry_replication  \\\n0                     [EFO_0007144]  [European=197385]                   []   \n1                     [EFO_0007282]  [European=213843]                   []   \n2      [EFO_0000763, MONDO_0018087]  [European=218792]                   []   \n3                     [EFO_0007157]  [European=214903]                   []   \n4                   [MONDO_0024318]  [European=217783]                   []   \n...                             ...                ...                  ...   \n36219                 [EFO_0008546]  [European=408481]                   []   \n36220                 [EFO_0008546]  [European=408425]                   []   \n36221                 [EFO_0009658]  [European=406425]                   []   \n36222                  [HP_0100806]  [European=408961]                   []   \n36223                  [HP_0100806]  [European=408961]                   []   \n\n       n_initial  n_replication  n_cases                   trait_category  \\\n0         197385            0.0     87.0                          Disease   \n1         213843            0.0    891.0  Disease of genitourinary system   \n2         218792            0.0   1450.0                          Disease   \n3         214903            0.0     87.0                          Disease   \n4         217783            0.0    146.0                    Uncategorised   \n...          ...            ...      ...                              ...   \n36219     408481            0.0    114.0                          Disease   \n36220     408425            0.0     58.0                          Disease   \n36221     406425            0.0   3130.0                          Disease   \n36222     408961            0.0   2811.0                    Uncategorised   \n36223     408961            0.0   2811.0                    Uncategorised   \n\n       num_assoc_loci  has_sumstats  \n0                   0          True  \n1                   0          True  \n2                   0          True  \n3                   0          True  \n4                   0          True  \n...               ...           ...  \n36219               0          True  \n36220               0          True  \n36221               0          True  \n36222               0          True  \n36223               0          True  \n\n[7664 rows x 16 columns]"
     },
     "execution_count": 14,
     "metadata": {},
     "output_type": "execute_result"
    }
   ],
   "source": [
    "Latest_study_table=pd.read_parquet(\"/Users/xg1/Downloads/v2d_210922_studies.parquet\")\n",
    "Latest_sumstats=Latest_study_table.loc[Latest_study_table[\"has_sumstats\"] == True]\n",
    "Latest_sumstats"
   ]
  },
  {
   "cell_type": "code",
   "execution_count": 17,
   "metadata": {},
   "outputs": [
    {
     "data": {
      "text/plain": "32512"
     },
     "execution_count": 17,
     "metadata": {},
     "output_type": "execute_result"
    }
   ],
   "source": [
    "import os\n",
    "list_sumstats=\"bq.py --help\"\n",
    "os.system(list_sumstats)"
   ]
  },
  {
   "cell_type": "code",
   "execution_count": null,
   "metadata": {},
   "outputs": [],
   "source": []
  },
  {
   "cell_type": "code",
   "execution_count": 13,
   "metadata": {},
   "outputs": [
    {
     "name": "stdout",
     "output_type": "stream",
     "text": [
      "Loaded 2445642 rows.\n"
     ]
    }
   ],
   "source": [
    "from google.cloud import bigquery\n",
    "\n",
    "# Construct a BigQuery client object.\n",
    "client = bigquery.Client()\n",
    "\n",
    "# TODO(developer): Set table_id to the ID of the table to create.\n",
    "table_id = \"open-targets-genetics-dev.Jack_sumstats.\"+\"your_table_name\"\n",
    "\n",
    "# job_config = bigquery.LoadJobConfig(\n",
    "#     schema=[\n",
    "#         bigquery.SchemaField(\"name\", \"STRING\"),\n",
    "#         bigquery.SchemaField(\"post_abbr\", \"STRING\"),\n",
    "#     ],\n",
    "#     skip_leading_rows=1,\n",
    "#     # The source format defaults to CSV, so the line below is optional.\n",
    "#     source_format=bigquery.SourceFormat.CSV,\n",
    "# )\n",
    "\n",
    "job_config = bigquery.LoadJobConfig(source_format=bigquery.SourceFormat.PARQUET,)\n",
    "\n",
    "uri = \"gs://genetics-portal-dev-sumstats/unfiltered/gwas/GCST000568.parquet/*.parquet\"\n",
    "\n",
    "load_job = client.load_table_from_uri(\n",
    "    uri, table_id, job_config=job_config\n",
    ")  # Make an API request.\n",
    "\n",
    "load_job.result()  # Waits for the job to complete.\n",
    "\n",
    "destination_table = client.get_table(table_id)  # Make an API request.\n",
    "print(\"Loaded {} rows.\".format(destination_table.num_rows))"
   ]
  },
  {
   "cell_type": "code",
   "execution_count": 17,
   "metadata": {},
   "outputs": [],
   "source": [
    " # Make an API request.\n",
    "\n",
    "\n"
   ]
  },
  {
   "cell_type": "code",
   "execution_count": 18,
   "metadata": {},
   "outputs": [],
   "source": [
    "query_job.result()"
   ]
  },
  {
   "cell_type": "code",
   "execution_count": 5,
   "metadata": {},
   "outputs": [
    {
     "name": "stdout",
     "output_type": "stream",
     "text": [
      "Loaded 12228210 rows.\n",
      "Exported open-targets-genetics-dev.rsID_sumstats.GCST000568 to gs://genetics-portal-dev-analysis/xg1/rsid_sumstats/GCST000568\n"
     ]
    }
   ],
   "source": [
    "from google.cloud import bigquery\n",
    "client = bigquery.Client()\n",
    "\n",
    "Input_study=\"GCST000568\"\n",
    "\n",
    "\n",
    "\n",
    "## LOAD Job: load from GCS to BQ (table_id)\n",
    "    # Would it be possible to make this table temporary? Or delete itself automatically after 1 week?\n",
    "\n",
    "Input_sumstats_path=\"gs://genetics-portal-dev-sumstats/unfiltered/gwas\"\n",
    "Input_study_URI=Input_sumstats_path+\"/\"+Input_study+\".parquet/*.parquet\"\n",
    "\n",
    "table_id = \"open-targets-genetics-dev.Jack_sumstats.\"+Input_study\n",
    "\n",
    "load_job_config = bigquery.LoadJobConfig(source_format=bigquery.SourceFormat.PARQUET,)\n",
    "load_job = client.load_table_from_uri(\n",
    "    Input_study_URI, table_id, job_config=load_job_config\n",
    ")  # Make an API request.\n",
    "load_job.result()  # Waits for the job to complete.\n",
    "\n",
    "destination_table = client.get_table(table_id)  # Make an API request.\n",
    "print(\"Loaded {} rows.\".format(destination_table.num_rows))\n",
    "\n",
    "# Query Job\n",
    "\n",
    "client = bigquery.Client()\n",
    "rsID_table=\"open-targets-genetics-dev.rsID_sumstats.\"+Input_study\n",
    "\n",
    "query_job_config = bigquery.QueryJobConfig(destination=rsID_table)\n",
    "query = \"\"\"\n",
    "    WITH SNP_info AS (\n",
    "    SELECT\n",
    "        CONCAT(CAST(chrom AS string), CAST(pos AS string), CAST(ref AS string), CAST(alt AS string)) AS identifier,\n",
    "        ref,\n",
    "        alt,\n",
    "        n_total,\n",
    "        pval,\n",
    "        eaf,\n",
    "        beta\n",
    "    FROM\n",
    "        `{0}` )\n",
    "    SELECT\n",
    "    rs_id AS RSID, ref AS A1, alt AS A2, n_total AS N, pval AS P, eaf AS EAF, beta AS BETA\n",
    "    FROM\n",
    "    SNP_info\n",
    "    JOIN (\n",
    "    SELECT\n",
    "        CONCAT(CAST(chr_id AS string), CAST(position AS string), CAST(ref_allele AS string), CAST(alt_allele AS string)) AS identifier,\n",
    "        rs_id\n",
    "    FROM\n",
    "        `open-targets-genetics.210608.variants` ) variants\n",
    "    USING(identifier)\n",
    "\"\"\".format(table_id)\n",
    "\n",
    "query_job = client.query(query, job_config=query_job_config)\n",
    "query_job.result()\n",
    "\n",
    "rsID_GCS_bucket=\"gs://genetics-portal-dev-analysis/xg1/rsid_sumstats\"\n",
    "rsID_GCS_URI=rsID_GCS_bucket+\"/{0}.txt\".format(Input_study)\n",
    "\n",
    "extract_job_config = bigquery.ExtractJobConfig() \n",
    "extract_job_config.field_delimiter = '\\t'\n",
    "extract_job_config.compression='GZIP'\n",
    "\n",
    "extract_job = client.extract_table(\n",
    "    rsID_table,\n",
    "    rsID_GCS_URI,\n",
    "    # Location must match that of the source table.\n",
    "    location=\"EU\",\n",
    "    job_config=extract_job_config\n",
    ")  # API request\n",
    "extract_job.result()  # Waits for job to complete.\n",
    "\n",
    "print(\n",
    "    \"Exported {} to {}\".format(rsID_table, rsID_GCS_URI)\n",
    ")\n",
    "\n",
    "\n",
    "#print(\"The query data:\")\n",
    "#for row in query_job:\n",
    "    # Row values can be accessed by field name or index.\n",
    "    #print(\"name={}, count={}\".format(row[0], row[\"total_people\"]))\n"
   ]
  },
  {
   "cell_type": "code",
   "execution_count": 7,
   "metadata": {},
   "outputs": [
    {
     "name": "stdout",
     "output_type": "stream",
     "text": [
      "Exported open-targets-genetics-dev.rsID_sumstats.GCST005413 to gs://genetics-portal-dev-analysis/xg1/rsid_sumstats/GCST005413.txt.gz\n",
      "Exported open-targets-genetics-dev.rsID_sumstats.GCST004131 to gs://genetics-portal-dev-analysis/xg1/rsid_sumstats/GCST004131.txt.gz\n",
      "Exported open-targets-genetics-dev.rsID_sumstats.GCST005569 to gs://genetics-portal-dev-analysis/xg1/rsid_sumstats/GCST005569.txt.gz\n",
      "Exported open-targets-genetics-dev.rsID_sumstats.GCST002245 to gs://genetics-portal-dev-analysis/xg1/rsid_sumstats/GCST002245.txt.gz\n"
     ]
    }
   ],
   "source": [
    "from google.cloud import bigquery\n",
    "client = bigquery.Client()\n",
    "\n",
    "#Input_study=\"GCST000568\"\n",
    "Input_study=[\"GCST005413\", \"GCST004131\", \"GCST005569\", \"GCST002245\"]\n",
    "## LOAD Job: load from GCS to BQ (table_id)\n",
    "    # Would it be possible to make this table temporary? Or delete itself automatically after 1 week?\n",
    "\n",
    "for study in Input_study:\n",
    "    rsID_table=\"open-targets-genetics-dev.rsID_sumstats.\"+study\n",
    "\n",
    "    rsID_GCS_bucket=\"gs://genetics-portal-dev-analysis/xg1/rsid_sumstats\"\n",
    "    rsID_GCS_URI=rsID_GCS_bucket+\"/{0}.txt.gz\".format(study)\n",
    "\n",
    "    extract_job_config = bigquery.ExtractJobConfig() \n",
    "    extract_job_config.field_delimiter = '\\t'\n",
    "    extract_job_config.compression='GZIP'\n",
    "\n",
    "    extract_job = client.extract_table(\n",
    "        rsID_table,\n",
    "        rsID_GCS_URI,\n",
    "        # Location must match that of the source table.\n",
    "        location=\"EU\",\n",
    "        job_config=extract_job_config\n",
    "    )  # API request\n",
    "    extract_job.result()  # Waits for job to complete.\n",
    "\n",
    "    print(\n",
    "        \"Exported {} to {}\".format(rsID_table, rsID_GCS_URI)\n",
    "    )\n"
   ]
  },
  {
   "cell_type": "code",
   "execution_count": 15,
   "metadata": {},
   "outputs": [
    {
     "ename": "ImportError",
     "evalue": "cannot import name 'storage' from 'google.cloud' (unknown location)",
     "output_type": "error",
     "traceback": [
      "\u001b[0;31m---------------------------------------------------------------------------\u001b[0m",
      "\u001b[0;31mImportError\u001b[0m                               Traceback (most recent call last)",
      "\u001b[0;32m<ipython-input-15-e2c18180cf9c>\u001b[0m in \u001b[0;36m<module>\u001b[0;34m\u001b[0m\n\u001b[0;32m----> 1\u001b[0;31m \u001b[0;32mfrom\u001b[0m \u001b[0mgoogle\u001b[0m\u001b[0;34m.\u001b[0m\u001b[0mcloud\u001b[0m \u001b[0;32mimport\u001b[0m \u001b[0mstorage\u001b[0m\u001b[0;34m\u001b[0m\u001b[0;34m\u001b[0m\u001b[0m\n\u001b[0m",
      "\u001b[0;31mImportError\u001b[0m: cannot import name 'storage' from 'google.cloud' (unknown location)"
     ]
    }
   ],
   "source": [
    "from google.cloud import storage"
   ]
  },
  {
   "cell_type": "code",
   "execution_count": 13,
   "metadata": {},
   "outputs": [
    {
     "name": "stdout",
     "output_type": "stream",
     "text": [
      "Frances\n",
      "Alice\n",
      "Beatrice\n",
      "Ella\n",
      "Gertrude\n",
      "Josephine\n",
      "Lula\n",
      "Blanche\n",
      "Marjorie\n",
      "Christine\n",
      "Margarita\n",
      "Alta\n",
      "Sara\n",
      "Naomi\n",
      "Sofia\n",
      "Andrea\n",
      "Delfina\n",
      "Dominga\n",
      "Elnora\n",
      "Adele\n",
      "Rafaela\n",
      "Dixie\n",
      "Luisa\n",
      "Bess\n",
      "Ernestine\n",
      "Lorine\n",
      "Patsy\n",
      "Cecelia\n",
      "Enriqueta\n",
      "Lucinda\n",
      "Alyce\n",
      "Oneta\n",
      "Apolonia\n",
      "Gloria\n",
      "Rhoda\n",
      "Buna\n",
      "Maye\n",
      "Pansy\n",
      "Gladys\n",
      "Maria\n",
      "Helen\n",
      "Velma\n",
      "Clara\n",
      "Anna\n",
      "Evelyn\n",
      "Rosa\n",
      "Mae\n",
      "Bernice\n",
      "Stella\n",
      "Vivian\n",
      "Mable\n",
      "Maggie\n",
      "Betty\n",
      "Guadalupe\n",
      "Lorene\n",
      "Susie\n",
      "Sadie\n",
      "Erma\n",
      "Verna\n",
      "Amelia\n",
      "Estelle\n",
      "Nell\n",
      "Margie\n",
      "Celia\n",
      "Lessie\n",
      "Eloise\n",
      "Millie\n",
      "Olga\n",
      "Letha\n",
      "Rachel\n",
      "Luz\n",
      "Gussie\n",
      "Sylvia\n",
      "Aline\n",
      "Barbara\n",
      "Iris\n",
      "Leila\n",
      "Mozelle\n",
      "Simona\n",
      "Catalina\n",
      "Hester\n",
      "Willia\n",
      "Allene\n",
      "Avis\n",
      "George\n",
      "Isabella\n",
      "Polly\n",
      "Syble\n",
      "Teodora\n",
      "Lennie\n",
      "Ricarda\n",
      "Valerie\n",
      "Frances\n",
      "Gertrude\n",
      "Sarah\n",
      "Rosa\n",
      "Lucy\n",
      "Nora\n",
      "Nettie\n",
      "Odessa\n"
     ]
    }
   ],
   "source": [
    "from google.cloud import bigquery\n",
    "\n",
    "client = bigquery.Client()\n",
    "\n",
    "# Perform a query.\n",
    "QUERY = (\n",
    "    'SELECT name FROM `bigquery-public-data.usa_names.usa_1910_2013` '\n",
    "    'WHERE state = \"TX\" '\n",
    "    'LIMIT 100')\n",
    "query_job = client.query(QUERY)  # API request\n",
    "rows = query_job.result()  # Waits for query to finish\n",
    "\n",
    "for row in rows:\n",
    "    print(row.name)"
   ]
  },
  {
   "cell_type": "code",
   "execution_count": null,
   "metadata": {},
   "outputs": [],
   "source": [
    "from google.cloud import bigquery\n",
    "\n",
    "# Construct a BigQuery client object.\n",
    "client = bigquery.Client()\n",
    "\n",
    "query = \"\"\"\n",
    "    SELECT name, SUM(number) as total_people\n",
    "    FROM `bigquery-public-data.usa_names.usa_1910_2013`\n",
    "    WHERE state = 'TX'\n",
    "    GROUP BY name, state\n",
    "    ORDER BY total_people DESC\n",
    "    LIMIT 20\n",
    "\"\"\"\n",
    "query_job = client.query(query)  # Make an API request.\n",
    "\n",
    "print(\"The query data:\")\n",
    "for row in query_job:\n",
    "    # Row values can be accessed by field name or index.\n",
    "    print(\"name={}, count={}\".format(row[0], row[\"total_people\"]))"
   ]
  },
  {
   "cell_type": "code",
   "execution_count": null,
   "metadata": {},
   "outputs": [],
   "source": []
  },
  {
   "cell_type": "code",
   "execution_count": null,
   "metadata": {},
   "outputs": [],
   "source": []
  },
  {
   "cell_type": "code",
   "execution_count": null,
   "metadata": {},
   "outputs": [],
   "source": []
  }
 ],
 "metadata": {
  "kernelspec": {
   "display_name": "Python 3.8.5 64-bit ('base': conda)",
   "name": "python385jvsc74a57bd0618a6e8c6a500db14a27b1883727eb6930466eacacee4b4e1d8748609a86c0d2"
  },
  "language_info": {
   "codemirror_mode": {
    "name": "ipython",
    "version": 3
   },
   "file_extension": ".py",
   "mimetype": "text/x-python",
   "name": "python",
   "nbconvert_exporter": "python",
   "pygments_lexer": "ipython3",
   "version": "3.8.5"
  },
  "orig_nbformat": 2
 },
 "nbformat": 4,
 "nbformat_minor": 2
}