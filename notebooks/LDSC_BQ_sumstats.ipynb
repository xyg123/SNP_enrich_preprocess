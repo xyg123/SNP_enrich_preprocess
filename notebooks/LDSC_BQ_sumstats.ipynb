{
 "cells": [
  {
   "cell_type": "code",
   "execution_count": null,
   "metadata": {},
   "outputs": [],
   "source": [
    "## Use Bigquery to automatically process GWAS with sumstats.\n",
    "\n",
    "import pandas as pd\n",
    "from sqlalchemy import text\n",
    "from sqlalchemy import create_engine\n",
    "\n",
    "from google.cloud import bigquery\n",
    "\n",
    "client = bigquery.Client()\n",
    "\n",
    "# # Perform a query.\n",
    "# QUERY = (\n",
    "#     'WITH\n",
    "#   SNP_info AS (\n",
    "#   SELECT\n",
    "#     CONCAT(CAST(chrom AS string), CAST(pos AS string), CAST(ref AS string), CAST(alt AS string)) AS identifier,\n",
    "#     ref,\n",
    "#     alt,\n",
    "#     n_total,\n",
    "#     pval,\n",
    "#     eaf\n",
    "#   FROM\n",
    "#     `open-targets-genetics-dev.Jack_sumstats.GCST006867` )\n",
    "# SELECT\n",
    "#   *\n",
    "# FROM\n",
    "#   SNP_info\n",
    "# JOIN (\n",
    "#   SELECT\n",
    "#     CONCAT(CAST(chr_id AS string), CAST(position AS string), CAST(ref_allele AS string), CAST(alt_allele AS string)) AS identifier,\n",
    "#     rs_id\n",
    "#   FROM\n",
    "#     `open-targets-genetics.210608.variants` ) variants\n",
    "# ON\n",
    "#   SNP_info.identifier = variants.identifier')\n",
    "\n",
    "# Perform a query.\n",
    "QUERY = (\n",
    "    'SELECT name FROM `bigquery-public-data.usa_names.usa_1910_2013` '\n",
    "    'WHERE state = \"TX\" '\n",
    "    'LIMIT 100')\n",
    "    \n",
    "query_job = client.query(QUERY)  # API request\n",
    "rows = query_job.result()  # Waits for query to finish\n",
    "\n",
    "for row in rows:\n",
    "    print(row.name)\n"
   ]
  },
  {
   "cell_type": "code",
   "execution_count": 8,
   "metadata": {},
   "outputs": [],
   "source": [
    "def implicit():\n",
    "    from google.cloud import storage\n",
    "\n",
    "    # If you don't specify credentials when constructing the client, the\n",
    "    # client library will look for credentials in the environment.\n",
    "    storage_client = storage.Client.from_service_account_json(\"/Users/xg1/Downloads/open-targets-genetics-eaa50bdaa2f5.json\")\n",
    "\n",
    "    # Make an authenticated API request\n",
    "    buckets = list(storage_client.list_buckets())\n",
    "    print(buckets)\n"
   ]
  },
  {
   "cell_type": "code",
   "execution_count": null,
   "metadata": {},
   "outputs": [],
   "source": [
    "implicit()"
   ]
  },
  {
   "cell_type": "code",
   "execution_count": 14,
   "metadata": {},
   "outputs": [
    {
     "data": {
      "text/html": "<div>\n<style scoped>\n    .dataframe tbody tr th:only-of-type {\n        vertical-align: middle;\n    }\n\n    .dataframe tbody tr th {\n        vertical-align: top;\n    }\n\n    .dataframe thead th {\n        text-align: right;\n    }\n</style>\n<table border=\"1\" class=\"dataframe\">\n  <thead>\n    <tr style=\"text-align: right;\">\n      <th></th>\n      <th>study_id</th>\n      <th>pmid</th>\n      <th>pub_date</th>\n      <th>pub_journal</th>\n      <th>pub_title</th>\n      <th>pub_author</th>\n      <th>trait_reported</th>\n      <th>trait_efos</th>\n      <th>ancestry_initial</th>\n      <th>ancestry_replication</th>\n      <th>n_initial</th>\n      <th>n_replication</th>\n      <th>n_cases</th>\n      <th>trait_category</th>\n      <th>num_assoc_loci</th>\n      <th>has_sumstats</th>\n    </tr>\n  </thead>\n  <tbody>\n    <tr>\n      <th>0</th>\n      <td>FINNGEN_R5_AB1_AMOEBIASIS</td>\n      <td></td>\n      <td>2021-5-11</td>\n      <td></td>\n      <td></td>\n      <td>FINNGEN_R5</td>\n      <td>Amoebiasis</td>\n      <td>[EFO_0007144]</td>\n      <td>[European=197385]</td>\n      <td>[]</td>\n      <td>197385</td>\n      <td>0.0</td>\n      <td>87.0</td>\n      <td>Disease</td>\n      <td>0</td>\n      <td>True</td>\n    </tr>\n    <tr>\n      <th>1</th>\n      <td>FINNGEN_R5_AB1_ANOGENITAL_HERPES_SIMPLEX</td>\n      <td></td>\n      <td>2021-5-11</td>\n      <td></td>\n      <td></td>\n      <td>FINNGEN_R5</td>\n      <td>Anogenital herpesviral [herpes simplex] infection</td>\n      <td>[EFO_0007282]</td>\n      <td>[European=213843]</td>\n      <td>[]</td>\n      <td>213843</td>\n      <td>0.0</td>\n      <td>891.0</td>\n      <td>Disease of genitourinary system</td>\n      <td>0</td>\n      <td>True</td>\n    </tr>\n    <tr>\n      <th>2</th>\n      <td>FINNGEN_R5_AB1_ARTHROPOD</td>\n      <td></td>\n      <td>2021-5-11</td>\n      <td></td>\n      <td></td>\n      <td>FINNGEN_R5</td>\n      <td>Arthropod-borne viral fevers and viral haemorr...</td>\n      <td>[EFO_0000763, MONDO_0018087]</td>\n      <td>[European=218792]</td>\n      <td>[]</td>\n      <td>218792</td>\n      <td>0.0</td>\n      <td>1450.0</td>\n      <td>Disease</td>\n      <td>0</td>\n      <td>True</td>\n    </tr>\n    <tr>\n      <th>3</th>\n      <td>FINNGEN_R5_AB1_ASPERGILLOSIS</td>\n      <td></td>\n      <td>2021-5-11</td>\n      <td></td>\n      <td></td>\n      <td>FINNGEN_R5</td>\n      <td>Aspergillosis</td>\n      <td>[EFO_0007157]</td>\n      <td>[European=214903]</td>\n      <td>[]</td>\n      <td>214903</td>\n      <td>0.0</td>\n      <td>87.0</td>\n      <td>Disease</td>\n      <td>0</td>\n      <td>True</td>\n    </tr>\n    <tr>\n      <th>4</th>\n      <td>FINNGEN_R5_AB1_ATYPICAL_CNS_VIRUS</td>\n      <td></td>\n      <td>2021-5-11</td>\n      <td></td>\n      <td></td>\n      <td>FINNGEN_R5</td>\n      <td>Atypical virus infections of central nervous s...</td>\n      <td>[MONDO_0024318]</td>\n      <td>[European=217783]</td>\n      <td>[]</td>\n      <td>217783</td>\n      <td>0.0</td>\n      <td>146.0</td>\n      <td>Uncategorised</td>\n      <td>0</td>\n      <td>True</td>\n    </tr>\n    <tr>\n      <th>...</th>\n      <td>...</td>\n      <td>...</td>\n      <td>...</td>\n      <td>...</td>\n      <td>...</td>\n      <td>...</td>\n      <td>...</td>\n      <td>...</td>\n      <td>...</td>\n      <td>...</td>\n      <td>...</td>\n      <td>...</td>\n      <td>...</td>\n      <td>...</td>\n      <td>...</td>\n      <td>...</td>\n    </tr>\n    <tr>\n      <th>36219</th>\n      <td>SAIGE_988</td>\n      <td></td>\n      <td>2018-10-24</td>\n      <td></td>\n      <td></td>\n      <td>UKB SAIGE</td>\n      <td>Toxic effect of noxious substances eaten as food</td>\n      <td>[EFO_0008546]</td>\n      <td>[European=408481]</td>\n      <td>[]</td>\n      <td>408481</td>\n      <td>0.0</td>\n      <td>114.0</td>\n      <td>Disease</td>\n      <td>0</td>\n      <td>True</td>\n    </tr>\n    <tr>\n      <th>36220</th>\n      <td>SAIGE_989</td>\n      <td></td>\n      <td>2018-10-24</td>\n      <td></td>\n      <td></td>\n      <td>UKB SAIGE</td>\n      <td>Toxic effect of other substances, chiefly nonm...</td>\n      <td>[EFO_0008546]</td>\n      <td>[European=408425]</td>\n      <td>[]</td>\n      <td>408425</td>\n      <td>0.0</td>\n      <td>58.0</td>\n      <td>Disease</td>\n      <td>0</td>\n      <td>True</td>\n    </tr>\n    <tr>\n      <th>36221</th>\n      <td>SAIGE_990</td>\n      <td></td>\n      <td>2018-10-24</td>\n      <td></td>\n      <td></td>\n      <td>UKB SAIGE</td>\n      <td>Effects radiation nos</td>\n      <td>[EFO_0009658]</td>\n      <td>[European=406425]</td>\n      <td>[]</td>\n      <td>406425</td>\n      <td>0.0</td>\n      <td>3130.0</td>\n      <td>Disease</td>\n      <td>0</td>\n      <td>True</td>\n    </tr>\n    <tr>\n      <th>36222</th>\n      <td>SAIGE_994</td>\n      <td></td>\n      <td>2018-10-24</td>\n      <td></td>\n      <td></td>\n      <td>UKB SAIGE</td>\n      <td>Sepsis and sirs</td>\n      <td>[HP_0100806]</td>\n      <td>[European=408961]</td>\n      <td>[]</td>\n      <td>408961</td>\n      <td>0.0</td>\n      <td>2811.0</td>\n      <td>Uncategorised</td>\n      <td>0</td>\n      <td>True</td>\n    </tr>\n    <tr>\n      <th>36223</th>\n      <td>SAIGE_994_2</td>\n      <td></td>\n      <td>2018-10-24</td>\n      <td></td>\n      <td></td>\n      <td>UKB SAIGE</td>\n      <td>Sepsis</td>\n      <td>[HP_0100806]</td>\n      <td>[European=408961]</td>\n      <td>[]</td>\n      <td>408961</td>\n      <td>0.0</td>\n      <td>2811.0</td>\n      <td>Uncategorised</td>\n      <td>0</td>\n      <td>True</td>\n    </tr>\n  </tbody>\n</table>\n<p>7664 rows × 16 columns</p>\n</div>",
      "text/plain": "                                       study_id pmid    pub_date pub_journal  \\\n0                     FINNGEN_R5_AB1_AMOEBIASIS        2021-5-11               \n1      FINNGEN_R5_AB1_ANOGENITAL_HERPES_SIMPLEX        2021-5-11               \n2                      FINNGEN_R5_AB1_ARTHROPOD        2021-5-11               \n3                  FINNGEN_R5_AB1_ASPERGILLOSIS        2021-5-11               \n4             FINNGEN_R5_AB1_ATYPICAL_CNS_VIRUS        2021-5-11               \n...                                         ...  ...         ...         ...   \n36219                                 SAIGE_988       2018-10-24               \n36220                                 SAIGE_989       2018-10-24               \n36221                                 SAIGE_990       2018-10-24               \n36222                                 SAIGE_994       2018-10-24               \n36223                               SAIGE_994_2       2018-10-24               \n\n      pub_title  pub_author  \\\n0                FINNGEN_R5   \n1                FINNGEN_R5   \n2                FINNGEN_R5   \n3                FINNGEN_R5   \n4                FINNGEN_R5   \n...         ...         ...   \n36219             UKB SAIGE   \n36220             UKB SAIGE   \n36221             UKB SAIGE   \n36222             UKB SAIGE   \n36223             UKB SAIGE   \n\n                                          trait_reported  \\\n0                                             Amoebiasis   \n1      Anogenital herpesviral [herpes simplex] infection   \n2      Arthropod-borne viral fevers and viral haemorr...   \n3                                          Aspergillosis   \n4      Atypical virus infections of central nervous s...   \n...                                                  ...   \n36219   Toxic effect of noxious substances eaten as food   \n36220  Toxic effect of other substances, chiefly nonm...   \n36221                              Effects radiation nos   \n36222                                    Sepsis and sirs   \n36223                                             Sepsis   \n\n                         trait_efos   ancestry_initial ancestry_replication  \\\n0                     [EFO_0007144]  [European=197385]                   []   \n1                     [EFO_0007282]  [European=213843]                   []   \n2      [EFO_0000763, MONDO_0018087]  [European=218792]                   []   \n3                     [EFO_0007157]  [European=214903]                   []   \n4                   [MONDO_0024318]  [European=217783]                   []   \n...                             ...                ...                  ...   \n36219                 [EFO_0008546]  [European=408481]                   []   \n36220                 [EFO_0008546]  [European=408425]                   []   \n36221                 [EFO_0009658]  [European=406425]                   []   \n36222                  [HP_0100806]  [European=408961]                   []   \n36223                  [HP_0100806]  [European=408961]                   []   \n\n       n_initial  n_replication  n_cases                   trait_category  \\\n0         197385            0.0     87.0                          Disease   \n1         213843            0.0    891.0  Disease of genitourinary system   \n2         218792            0.0   1450.0                          Disease   \n3         214903            0.0     87.0                          Disease   \n4         217783            0.0    146.0                    Uncategorised   \n...          ...            ...      ...                              ...   \n36219     408481            0.0    114.0                          Disease   \n36220     408425            0.0     58.0                          Disease   \n36221     406425            0.0   3130.0                          Disease   \n36222     408961            0.0   2811.0                    Uncategorised   \n36223     408961            0.0   2811.0                    Uncategorised   \n\n       num_assoc_loci  has_sumstats  \n0                   0          True  \n1                   0          True  \n2                   0          True  \n3                   0          True  \n4                   0          True  \n...               ...           ...  \n36219               0          True  \n36220               0          True  \n36221               0          True  \n36222               0          True  \n36223               0          True  \n\n[7664 rows x 16 columns]"
     },
     "execution_count": 14,
     "metadata": {},
     "output_type": "execute_result"
    }
   ],
   "source": [
    "Latest_study_table=pd.read_parquet(\"/Users/xg1/Downloads/v2d_210922_studies.parquet\")\n",
    "Latest_sumstats=Latest_study_table.loc[Latest_study_table[\"has_sumstats\"] == True]\n",
    "Latest_sumstats"
   ]
  },
  {
   "cell_type": "code",
   "execution_count": 17,
   "metadata": {},
   "outputs": [
    {
     "data": {
      "text/plain": "32512"
     },
     "execution_count": 17,
     "metadata": {},
     "output_type": "execute_result"
    }
   ],
   "source": [
    "import os\n",
    "list_sumstats=\"bq.py --help\"\n",
    "os.system(list_sumstats)"
   ]
  },
  {
   "cell_type": "code",
   "execution_count": null,
   "metadata": {},
   "outputs": [],
   "source": []
  },
  {
   "cell_type": "code",
   "execution_count": 13,
   "metadata": {},
   "outputs": [
    {
     "name": "stdout",
     "output_type": "stream",
     "text": [
      "Loaded 2445642 rows.\n"
     ]
    }
   ],
   "source": [
    "from google.cloud import bigquery\n",
    "\n",
    "# Construct a BigQuery client object.\n",
    "client = bigquery.Client()\n",
    "\n",
    "# TODO(developer): Set table_id to the ID of the table to create.\n",
    "table_id = \"open-targets-genetics-dev.Jack_sumstats.\"+\"your_table_name\"\n",
    "\n",
    "# job_config = bigquery.LoadJobConfig(\n",
    "#     schema=[\n",
    "#         bigquery.SchemaField(\"name\", \"STRING\"),\n",
    "#         bigquery.SchemaField(\"post_abbr\", \"STRING\"),\n",
    "#     ],\n",
    "#     skip_leading_rows=1,\n",
    "#     # The source format defaults to CSV, so the line below is optional.\n",
    "#     source_format=bigquery.SourceFormat.CSV,\n",
    "# )\n",
    "\n",
    "job_config = bigquery.LoadJobConfig(source_format=bigquery.SourceFormat.PARQUET,)\n",
    "\n",
    "uri = \"gs://genetics-portal-dev-sumstats/unfiltered/gwas/GCST000568.parquet/*.parquet\"\n",
    "\n",
    "load_job = client.load_table_from_uri(\n",
    "    uri, table_id, job_config=job_config\n",
    ")  # Make an API request.\n",
    "\n",
    "load_job.result()  # Waits for the job to complete.\n",
    "\n",
    "destination_table = client.get_table(table_id)  # Make an API request.\n",
    "print(\"Loaded {} rows.\".format(destination_table.num_rows))"
   ]
  },
  {
   "cell_type": "code",
   "execution_count": 17,
   "metadata": {},
   "outputs": [],
   "source": [
    " # Make an API request.\n",
    "\n",
    "\n"
   ]
  },
  {
   "cell_type": "code",
   "execution_count": 18,
   "metadata": {},
   "outputs": [],
   "source": [
    "query_job.result()"
   ]
  },
  {
   "cell_type": "code",
   "execution_count": 5,
   "metadata": {},
   "outputs": [
    {
     "name": "stdout",
     "output_type": "stream",
     "text": [
      "Loaded 12228210 rows.\n",
      "Exported open-targets-genetics-dev.rsID_sumstats.GCST000568 to gs://genetics-portal-dev-analysis/xg1/rsid_sumstats/GCST000568\n"
     ]
    }
   ],
   "source": [
    "from google.cloud import bigquery\n",
    "client = bigquery.Client()\n",
    "\n",
    "Input_study=\"GCST000568\"\n",
    "\n",
    "\n",
    "\n",
    "## LOAD Job: load from GCS to BQ (table_id)\n",
    "    # Would it be possible to make this table temporary? Or delete itself automatically after 1 week?\n",
    "\n",
    "Input_sumstats_path=\"gs://genetics-portal-dev-sumstats/unfiltered/gwas\"\n",
    "Input_study_URI=Input_sumstats_path+\"/\"+Input_study+\".parquet/*.parquet\"\n",
    "\n",
    "table_id = \"open-targets-genetics-dev.Jack_sumstats.\"+Input_study\n",
    "\n",
    "load_job_config = bigquery.LoadJobConfig(source_format=bigquery.SourceFormat.PARQUET,)\n",
    "load_job = client.load_table_from_uri(\n",
    "    Input_study_URI, table_id, job_config=load_job_config\n",
    ")  # Make an API request.\n",
    "load_job.result()  # Waits for the job to complete.\n",
    "\n",
    "destination_table = client.get_table(table_id)  # Make an API request.\n",
    "print(\"Loaded {} rows.\".format(destination_table.num_rows))\n",
    "\n",
    "# Query Job\n",
    "\n",
    "client = bigquery.Client()\n",
    "rsID_table=\"open-targets-genetics-dev.rsID_sumstats.\"+Input_study\n",
    "\n",
    "query_job_config = bigquery.QueryJobConfig(destination=rsID_table)\n",
    "query = \"\"\"\n",
    "    WITH SNP_info AS (\n",
    "    SELECT\n",
    "        CONCAT(CAST(chrom AS string), CAST(pos AS string), CAST(ref AS string), CAST(alt AS string)) AS identifier,\n",
    "        ref,\n",
    "        alt,\n",
    "        n_total,\n",
    "        pval,\n",
    "        eaf,\n",
    "        beta\n",
    "    FROM\n",
    "        `{0}` )\n",
    "    SELECT\n",
    "    rs_id AS RSID, ref AS A1, alt AS A2, n_total AS N, pval AS P, eaf AS EAF, beta AS BETA\n",
    "    FROM\n",
    "    SNP_info\n",
    "    JOIN (\n",
    "    SELECT\n",
    "        CONCAT(CAST(chr_id AS string), CAST(position AS string), CAST(ref_allele AS string), CAST(alt_allele AS string)) AS identifier,\n",
    "        rs_id\n",
    "    FROM\n",
    "        `open-targets-genetics.210608.variants` ) variants\n",
    "    USING(identifier)\n",
    "\"\"\".format(table_id)\n",
    "\n",
    "query_job = client.query(query, job_config=query_job_config)\n",
    "query_job.result()\n",
    "\n",
    "rsID_GCS_bucket=\"gs://genetics-portal-dev-analysis/xg1/rsid_sumstats\"\n",
    "rsID_GCS_URI=rsID_GCS_bucket+\"/{0}.txt\".format(Input_study)\n",
    "\n",
    "extract_job_config = bigquery.ExtractJobConfig() \n",
    "extract_job_config.field_delimiter = '\\t'\n",
    "extract_job_config.compression='GZIP'\n",
    "\n",
    "extract_job = client.extract_table(\n",
    "    rsID_table,\n",
    "    rsID_GCS_URI,\n",
    "    # Location must match that of the source table.\n",
    "    location=\"EU\",\n",
    "    job_config=extract_job_config\n",
    ")  # API request\n",
    "extract_job.result()  # Waits for job to complete.\n",
    "\n",
    "print(\n",
    "    \"Exported {} to {}\".format(rsID_table, rsID_GCS_URI)\n",
    ")\n",
    "\n",
    "\n",
    "#print(\"The query data:\")\n",
    "#for row in query_job:\n",
    "    # Row values can be accessed by field name or index.\n",
    "    #print(\"name={}, count={}\".format(row[0], row[\"total_people\"]))\n"
   ]
  },
  {
   "cell_type": "code",
   "execution_count": 7,
   "metadata": {},
   "outputs": [
    {
     "name": "stdout",
     "output_type": "stream",
     "text": [
      "Exported open-targets-genetics-dev.rsID_sumstats.GCST005413 to gs://genetics-portal-dev-analysis/xg1/rsid_sumstats/GCST005413.txt.gz\n",
      "Exported open-targets-genetics-dev.rsID_sumstats.GCST004131 to gs://genetics-portal-dev-analysis/xg1/rsid_sumstats/GCST004131.txt.gz\n",
      "Exported open-targets-genetics-dev.rsID_sumstats.GCST005569 to gs://genetics-portal-dev-analysis/xg1/rsid_sumstats/GCST005569.txt.gz\n",
      "Exported open-targets-genetics-dev.rsID_sumstats.GCST002245 to gs://genetics-portal-dev-analysis/xg1/rsid_sumstats/GCST002245.txt.gz\n"
     ]
    }
   ],
   "source": [
    "from google.cloud import bigquery\n",
    "client = bigquery.Client()\n",
    "\n",
    "#Input_study=\"GCST000568\"\n",
    "Input_study=[\"GCST005413\", \"GCST004131\", \"GCST005569\", \"GCST002245\"]\n",
    "## LOAD Job: load from GCS to BQ (table_id)\n",
    "    # Would it be possible to make this table temporary? Or delete itself automatically after 1 week?\n",
    "\n",
    "for study in Input_study:\n",
    "    rsID_table=\"open-targets-genetics-dev.rsID_sumstats.\"+study\n",
    "\n",
    "    rsID_GCS_bucket=\"gs://genetics-portal-dev-analysis/xg1/rsid_sumstats\"\n",
    "    rsID_GCS_URI=rsID_GCS_bucket+\"/{0}.txt.gz\".format(study)\n",
    "\n",
    "    extract_job_config = bigquery.ExtractJobConfig() \n",
    "    extract_job_config.field_delimiter = '\\t'\n",
    "    extract_job_config.compression='GZIP'\n",
    "\n",
    "    extract_job = client.extract_table(\n",
    "        rsID_table,\n",
    "        rsID_GCS_URI,\n",
    "        # Location must match that of the source table.\n",
    "        location=\"EU\",\n",
    "        job_config=extract_job_config\n",
    "    )  # API request\n",
    "    extract_job.result()  # Waits for job to complete.\n",
    "\n",
    "    print(\n",
    "        \"Exported {} to {}\".format(rsID_table, rsID_GCS_URI)\n",
    "    )\n"
   ]
  },
  {
   "cell_type": "code",
   "execution_count": 15,
   "metadata": {},
   "outputs": [
    {
     "ename": "ImportError",
     "evalue": "cannot import name 'storage' from 'google.cloud' (unknown location)",
     "output_type": "error",
     "traceback": [
      "\u001b[0;31m---------------------------------------------------------------------------\u001b[0m",
      "\u001b[0;31mImportError\u001b[0m                               Traceback (most recent call last)",
      "\u001b[0;32m<ipython-input-15-e2c18180cf9c>\u001b[0m in \u001b[0;36m<module>\u001b[0;34m\u001b[0m\n\u001b[0;32m----> 1\u001b[0;31m \u001b[0;32mfrom\u001b[0m \u001b[0mgoogle\u001b[0m\u001b[0;34m.\u001b[0m\u001b[0mcloud\u001b[0m \u001b[0;32mimport\u001b[0m \u001b[0mstorage\u001b[0m\u001b[0;34m\u001b[0m\u001b[0;34m\u001b[0m\u001b[0m\n\u001b[0m",
      "\u001b[0;31mImportError\u001b[0m: cannot import name 'storage' from 'google.cloud' (unknown location)"
     ]
    }
   ],
   "source": [
    "from google.cloud import storage"
   ]
  },
  {
   "cell_type": "code",
   "execution_count": 13,
   "metadata": {},
   "outputs": [
    {
     "name": "stdout",
     "output_type": "stream",
     "text": [
      "Frances\n",
      "Alice\n",
      "Beatrice\n",
      "Ella\n",
      "Gertrude\n",
      "Josephine\n",
      "Lula\n",
      "Blanche\n",
      "Marjorie\n",
      "Christine\n",
      "Margarita\n",
      "Alta\n",
      "Sara\n",
      "Naomi\n",
      "Sofia\n",
      "Andrea\n",
      "Delfina\n",
      "Dominga\n",
      "Elnora\n",
      "Adele\n",
      "Rafaela\n",
      "Dixie\n",
      "Luisa\n",
      "Bess\n",
      "Ernestine\n",
      "Lorine\n",
      "Patsy\n",
      "Cecelia\n",
      "Enriqueta\n",
      "Lucinda\n",
      "Alyce\n",
      "Oneta\n",
      "Apolonia\n",
      "Gloria\n",
      "Rhoda\n",
      "Buna\n",
      "Maye\n",
      "Pansy\n",
      "Gladys\n",
      "Maria\n",
      "Helen\n",
      "Velma\n",
      "Clara\n",
      "Anna\n",
      "Evelyn\n",
      "Rosa\n",
      "Mae\n",
      "Bernice\n",
      "Stella\n",
      "Vivian\n",
      "Mable\n",
      "Maggie\n",
      "Betty\n",
      "Guadalupe\n",
      "Lorene\n",
      "Susie\n",
      "Sadie\n",
      "Erma\n",
      "Verna\n",
      "Amelia\n",
      "Estelle\n",
      "Nell\n",
      "Margie\n",
      "Celia\n",
      "Lessie\n",
      "Eloise\n",
      "Millie\n",
      "Olga\n",
      "Letha\n",
      "Rachel\n",
      "Luz\n",
      "Gussie\n",
      "Sylvia\n",
      "Aline\n",
      "Barbara\n",
      "Iris\n",
      "Leila\n",
      "Mozelle\n",
      "Simona\n",
      "Catalina\n",
      "Hester\n",
      "Willia\n",
      "Allene\n",
      "Avis\n",
      "George\n",
      "Isabella\n",
      "Polly\n",
      "Syble\n",
      "Teodora\n",
      "Lennie\n",
      "Ricarda\n",
      "Valerie\n",
      "Frances\n",
      "Gertrude\n",
      "Sarah\n",
      "Rosa\n",
      "Lucy\n",
      "Nora\n",
      "Nettie\n",
      "Odessa\n"
     ]
    }
   ],
   "source": [
    "from google.cloud import bigquery\n",
    "\n",
    "client = bigquery.Client()\n",
    "\n",
    "# Perform a query.\n",
    "QUERY = (\n",
    "    'SELECT name FROM `bigquery-public-data.usa_names.usa_1910_2013` '\n",
    "    'WHERE state = \"TX\" '\n",
    "    'LIMIT 100')\n",
    "query_job = client.query(QUERY)  # API request\n",
    "rows = query_job.result()  # Waits for query to finish\n",
    "\n",
    "for row in rows:\n",
    "    print(row.name)"
   ]
  },
  {
   "cell_type": "code",
   "execution_count": null,
   "metadata": {},
   "outputs": [],
   "source": [
    "from google.cloud import bigquery\n",
    "\n",
    "# Construct a BigQuery client object.\n",
    "client = bigquery.Client()\n",
    "\n",
    "query = \"\"\"\n",
    "    SELECT name, SUM(number) as total_people\n",
    "    FROM `bigquery-public-data.usa_names.usa_1910_2013`\n",
    "    WHERE state = 'TX'\n",
    "    GROUP BY name, state\n",
    "    ORDER BY total_people DESC\n",
    "    LIMIT 20\n",
    "\"\"\"\n",
    "query_job = client.query(query)  # Make an API request.\n",
    "\n",
    "print(\"The query data:\")\n",
    "for row in query_job:\n",
    "    # Row values can be accessed by field name or index.\n",
    "    print(\"name={}, count={}\".format(row[0], row[\"total_people\"]))"
   ]
  },
  {
   "cell_type": "code",
   "execution_count": 35,
   "metadata": {},
   "outputs": [
    {
     "data": {
      "text/plain": "['CHR',\n 'BP',\n 'SNP',\n 'CM',\n 'base',\n 'Coding_UCSC',\n 'Coding_UCSC.flanking.500',\n 'Conserved_LindbladToh',\n 'Conserved_LindbladToh.flanking.500',\n 'CTCF_Hoffman',\n 'CTCF_Hoffman.flanking.500',\n 'DGF_ENCODE',\n 'DGF_ENCODE.flanking.500',\n 'DHS_peaks_Trynka',\n 'DHS_Trynka',\n 'DHS_Trynka.flanking.500',\n 'Enhancer_Andersson',\n 'Enhancer_Andersson.flanking.500',\n 'Enhancer_Hoffman',\n 'Enhancer_Hoffman.flanking.500',\n 'FetalDHS_Trynka',\n 'FetalDHS_Trynka.flanking.500',\n 'H3K27ac_Hnisz',\n 'H3K27ac_Hnisz.flanking.500',\n 'H3K27ac_PGC2',\n 'H3K27ac_PGC2.flanking.500',\n 'H3K4me1_peaks_Trynka',\n 'H3K4me1_Trynka',\n 'H3K4me1_Trynka.flanking.500',\n 'H3K4me3_peaks_Trynka',\n 'H3K4me3_Trynka',\n 'H3K4me3_Trynka.flanking.500',\n 'H3K9ac_peaks_Trynka',\n 'H3K9ac_Trynka',\n 'H3K9ac_Trynka.flanking.500',\n 'Intron_UCSC',\n 'Intron_UCSC.flanking.500',\n 'PromoterFlanking_Hoffman',\n 'PromoterFlanking_Hoffman.flanking.500',\n 'Promoter_UCSC',\n 'Promoter_UCSC.flanking.500',\n 'Repressed_Hoffman',\n 'Repressed_Hoffman.flanking.500',\n 'SuperEnhancer_Hnisz',\n 'SuperEnhancer_Hnisz.flanking.500',\n 'TFBS_ENCODE',\n 'TFBS_ENCODE.flanking.500',\n 'Transcr_Hoffman',\n 'Transcr_Hoffman.flanking.500',\n 'TSS_Hoffman',\n 'TSS_Hoffman.flanking.500',\n 'UTR_3_UCSC',\n 'UTR_3_UCSC.flanking.500',\n 'UTR_5_UCSC',\n 'UTR_5_UCSC.flanking.500',\n 'WeakEnhancer_Hoffman',\n 'WeakEnhancer_Hoffman.flanking.500',\n 'GERP.NS',\n 'GERP.RSsup4',\n 'MAFbin1',\n 'MAFbin2',\n 'MAFbin3',\n 'MAFbin4',\n 'MAFbin5',\n 'MAFbin6',\n 'MAFbin7',\n 'MAFbin8',\n 'MAFbin9',\n 'MAFbin10',\n 'MAF_Adj_Predicted_Allele_Age',\n 'MAF_Adj_LLD_AFR',\n 'Recomb_Rate_10kb',\n 'Nucleotide_Diversity_10kb',\n 'Backgrd_Selection_Stat',\n 'CpG_Content_50kb',\n 'MAF_Adj_ASMC',\n 'GTEx_eQTL_MaxCPP',\n 'BLUEPRINT_H3K27acQTL_MaxCPP',\n 'BLUEPRINT_H3K4me1QTL_MaxCPP',\n 'BLUEPRINT_DNA_methylation_MaxCPP',\n 'synonymous',\n 'non_synonymous',\n 'Conserved_Vertebrate_phastCons46way',\n 'Conserved_Vertebrate_phastCons46way.flanking.500',\n 'Conserved_Mammal_phastCons46way',\n 'Conserved_Mammal_phastCons46way.flanking.500',\n 'Conserved_Primate_phastCons46way',\n 'Conserved_Primate_phastCons46way.flanking.500',\n 'BivFlnk',\n 'BivFlnk.flanking.500',\n 'Human_Promoter_Villar',\n 'Human_Promoter_Villar.flanking.500',\n 'Human_Enhancer_Villar',\n 'Human_Enhancer_Villar.flanking.500',\n 'Ancient_Sequence_Age_Human_Promoter',\n 'Ancient_Sequence_Age_Human_Promoter.flanking.500',\n 'Ancient_Sequence_Age_Human_Enhancer',\n 'Ancient_Sequence_Age_Human_Enhancer.flanking.500',\n 'Human_Enhancer_Villar_Species_Enhancer_Count',\n 'Human_Promoter_Villar_ExAC',\n 'Human_Promoter_Villar_ExAC.flanking.500']"
     },
     "execution_count": 35,
     "metadata": {},
     "output_type": "execute_result"
    }
   ],
   "source": [
    "import pandas as pd\n",
    "\n",
    "Full_baseline=pd.read_csv(\"/Users/xg1/Downloads/ldsc/baselineLD/baselineLD.22.annot.gz\", sep='\\t')\n",
    "list(Full_baseline.columns)"
   ]
  },
  {
   "cell_type": "code",
   "execution_count": 43,
   "metadata": {},
   "outputs": [
    {
     "data": {
      "text/html": "<div>\n<style scoped>\n    .dataframe tbody tr th:only-of-type {\n        vertical-align: middle;\n    }\n\n    .dataframe tbody tr th {\n        vertical-align: top;\n    }\n\n    .dataframe thead th {\n        text-align: right;\n    }\n</style>\n<table border=\"1\" class=\"dataframe\">\n  <thead>\n    <tr style=\"text-align: right;\">\n      <th></th>\n      <th>CHR</th>\n      <th>BP</th>\n      <th>SNP</th>\n      <th>CM</th>\n      <th>base</th>\n      <th>Coding_UCSC</th>\n      <th>Coding_UCSC.flanking.500</th>\n      <th>Conserved_LindbladToh</th>\n      <th>Conserved_LindbladToh.flanking.500</th>\n      <th>CTCF_Hoffman</th>\n      <th>...</th>\n      <th>SuperEnhancer_Hnisz</th>\n      <th>SuperEnhancer_Hnisz.flanking.500</th>\n      <th>TFBS_ENCODE</th>\n      <th>TFBS_ENCODE.flanking.500</th>\n      <th>WeakEnhancer_Hoffman</th>\n      <th>WeakEnhancer_Hoffman.flanking.500</th>\n      <th>Conserved_Mammal_phastCons46way</th>\n      <th>Conserved_Mammal_phastCons46way.flanking.500</th>\n      <th>BivFlnk</th>\n      <th>BivFlnk.flanking.500</th>\n    </tr>\n  </thead>\n  <tbody>\n    <tr>\n      <th>0</th>\n      <td>1</td>\n      <td>11008</td>\n      <td>rs575272151</td>\n      <td>0.000</td>\n      <td>1</td>\n      <td>0</td>\n      <td>0</td>\n      <td>0</td>\n      <td>0</td>\n      <td>0</td>\n      <td>...</td>\n      <td>0</td>\n      <td>0</td>\n      <td>0</td>\n      <td>0</td>\n      <td>0</td>\n      <td>0</td>\n      <td>0</td>\n      <td>0</td>\n      <td>0</td>\n      <td>0</td>\n    </tr>\n    <tr>\n      <th>1</th>\n      <td>1</td>\n      <td>11012</td>\n      <td>rs544419019</td>\n      <td>0.000</td>\n      <td>1</td>\n      <td>0</td>\n      <td>0</td>\n      <td>0</td>\n      <td>0</td>\n      <td>0</td>\n      <td>...</td>\n      <td>0</td>\n      <td>0</td>\n      <td>0</td>\n      <td>0</td>\n      <td>0</td>\n      <td>0</td>\n      <td>0</td>\n      <td>0</td>\n      <td>0</td>\n      <td>0</td>\n    </tr>\n    <tr>\n      <th>2</th>\n      <td>1</td>\n      <td>13110</td>\n      <td>rs540538026</td>\n      <td>0.000</td>\n      <td>1</td>\n      <td>0</td>\n      <td>0</td>\n      <td>0</td>\n      <td>0</td>\n      <td>0</td>\n      <td>...</td>\n      <td>0</td>\n      <td>0</td>\n      <td>0</td>\n      <td>0</td>\n      <td>0</td>\n      <td>0</td>\n      <td>0</td>\n      <td>1</td>\n      <td>0</td>\n      <td>0</td>\n    </tr>\n    <tr>\n      <th>3</th>\n      <td>1</td>\n      <td>13116</td>\n      <td>rs62635286</td>\n      <td>0.000</td>\n      <td>1</td>\n      <td>0</td>\n      <td>0</td>\n      <td>0</td>\n      <td>0</td>\n      <td>0</td>\n      <td>...</td>\n      <td>0</td>\n      <td>0</td>\n      <td>0</td>\n      <td>0</td>\n      <td>0</td>\n      <td>0</td>\n      <td>0</td>\n      <td>1</td>\n      <td>0</td>\n      <td>0</td>\n    </tr>\n    <tr>\n      <th>4</th>\n      <td>1</td>\n      <td>13118</td>\n      <td>rs200579949</td>\n      <td>0.000</td>\n      <td>1</td>\n      <td>0</td>\n      <td>0</td>\n      <td>0</td>\n      <td>0</td>\n      <td>0</td>\n      <td>...</td>\n      <td>0</td>\n      <td>0</td>\n      <td>0</td>\n      <td>0</td>\n      <td>0</td>\n      <td>0</td>\n      <td>0</td>\n      <td>1</td>\n      <td>0</td>\n      <td>0</td>\n    </tr>\n    <tr>\n      <th>...</th>\n      <td>...</td>\n      <td>...</td>\n      <td>...</td>\n      <td>...</td>\n      <td>...</td>\n      <td>...</td>\n      <td>...</td>\n      <td>...</td>\n      <td>...</td>\n      <td>...</td>\n      <td>...</td>\n      <td>...</td>\n      <td>...</td>\n      <td>...</td>\n      <td>...</td>\n      <td>...</td>\n      <td>...</td>\n      <td>...</td>\n      <td>...</td>\n      <td>...</td>\n      <td>...</td>\n    </tr>\n    <tr>\n      <th>779349</th>\n      <td>1</td>\n      <td>249233164</td>\n      <td>rs374472180</td>\n      <td>293.397</td>\n      <td>1</td>\n      <td>0</td>\n      <td>0</td>\n      <td>0</td>\n      <td>0</td>\n      <td>1</td>\n      <td>...</td>\n      <td>0</td>\n      <td>0</td>\n      <td>1</td>\n      <td>0</td>\n      <td>0</td>\n      <td>0</td>\n      <td>0</td>\n      <td>0</td>\n      <td>0</td>\n      <td>0</td>\n    </tr>\n    <tr>\n      <th>779350</th>\n      <td>1</td>\n      <td>249236809</td>\n      <td>rs548489155</td>\n      <td>293.397</td>\n      <td>1</td>\n      <td>0</td>\n      <td>0</td>\n      <td>0</td>\n      <td>0</td>\n      <td>0</td>\n      <td>...</td>\n      <td>0</td>\n      <td>0</td>\n      <td>0</td>\n      <td>0</td>\n      <td>0</td>\n      <td>0</td>\n      <td>0</td>\n      <td>0</td>\n      <td>0</td>\n      <td>0</td>\n    </tr>\n    <tr>\n      <th>779351</th>\n      <td>1</td>\n      <td>249236810</td>\n      <td>rs569532168</td>\n      <td>293.397</td>\n      <td>1</td>\n      <td>0</td>\n      <td>0</td>\n      <td>0</td>\n      <td>0</td>\n      <td>0</td>\n      <td>...</td>\n      <td>0</td>\n      <td>0</td>\n      <td>0</td>\n      <td>0</td>\n      <td>0</td>\n      <td>0</td>\n      <td>0</td>\n      <td>0</td>\n      <td>0</td>\n      <td>0</td>\n    </tr>\n    <tr>\n      <th>779352</th>\n      <td>1</td>\n      <td>249239303</td>\n      <td>rs573070055</td>\n      <td>293.397</td>\n      <td>1</td>\n      <td>0</td>\n      <td>0</td>\n      <td>0</td>\n      <td>0</td>\n      <td>0</td>\n      <td>...</td>\n      <td>0</td>\n      <td>0</td>\n      <td>0</td>\n      <td>1</td>\n      <td>0</td>\n      <td>0</td>\n      <td>0</td>\n      <td>0</td>\n      <td>0</td>\n      <td>0</td>\n    </tr>\n    <tr>\n      <th>779353</th>\n      <td>1</td>\n      <td>249239747</td>\n      <td>rs376640754</td>\n      <td>293.397</td>\n      <td>1</td>\n      <td>0</td>\n      <td>0</td>\n      <td>0</td>\n      <td>0</td>\n      <td>0</td>\n      <td>...</td>\n      <td>0</td>\n      <td>0</td>\n      <td>1</td>\n      <td>0</td>\n      <td>0</td>\n      <td>1</td>\n      <td>0</td>\n      <td>0</td>\n      <td>0</td>\n      <td>0</td>\n    </tr>\n  </tbody>\n</table>\n<p>779354 rows × 41 columns</p>\n</div>",
      "text/plain": "        CHR         BP          SNP       CM  base  Coding_UCSC  \\\n0         1      11008  rs575272151    0.000     1            0   \n1         1      11012  rs544419019    0.000     1            0   \n2         1      13110  rs540538026    0.000     1            0   \n3         1      13116   rs62635286    0.000     1            0   \n4         1      13118  rs200579949    0.000     1            0   \n...     ...        ...          ...      ...   ...          ...   \n779349    1  249233164  rs374472180  293.397     1            0   \n779350    1  249236809  rs548489155  293.397     1            0   \n779351    1  249236810  rs569532168  293.397     1            0   \n779352    1  249239303  rs573070055  293.397     1            0   \n779353    1  249239747  rs376640754  293.397     1            0   \n\n        Coding_UCSC.flanking.500  Conserved_LindbladToh  \\\n0                              0                      0   \n1                              0                      0   \n2                              0                      0   \n3                              0                      0   \n4                              0                      0   \n...                          ...                    ...   \n779349                         0                      0   \n779350                         0                      0   \n779351                         0                      0   \n779352                         0                      0   \n779353                         0                      0   \n\n        Conserved_LindbladToh.flanking.500  CTCF_Hoffman  ...  \\\n0                                        0             0  ...   \n1                                        0             0  ...   \n2                                        0             0  ...   \n3                                        0             0  ...   \n4                                        0             0  ...   \n...                                    ...           ...  ...   \n779349                                   0             1  ...   \n779350                                   0             0  ...   \n779351                                   0             0  ...   \n779352                                   0             0  ...   \n779353                                   0             0  ...   \n\n        SuperEnhancer_Hnisz  SuperEnhancer_Hnisz.flanking.500  TFBS_ENCODE  \\\n0                         0                                 0            0   \n1                         0                                 0            0   \n2                         0                                 0            0   \n3                         0                                 0            0   \n4                         0                                 0            0   \n...                     ...                               ...          ...   \n779349                    0                                 0            1   \n779350                    0                                 0            0   \n779351                    0                                 0            0   \n779352                    0                                 0            0   \n779353                    0                                 0            1   \n\n        TFBS_ENCODE.flanking.500  WeakEnhancer_Hoffman  \\\n0                              0                     0   \n1                              0                     0   \n2                              0                     0   \n3                              0                     0   \n4                              0                     0   \n...                          ...                   ...   \n779349                         0                     0   \n779350                         0                     0   \n779351                         0                     0   \n779352                         1                     0   \n779353                         0                     0   \n\n        WeakEnhancer_Hoffman.flanking.500  Conserved_Mammal_phastCons46way  \\\n0                                       0                                0   \n1                                       0                                0   \n2                                       0                                0   \n3                                       0                                0   \n4                                       0                                0   \n...                                   ...                              ...   \n779349                                  0                                0   \n779350                                  0                                0   \n779351                                  0                                0   \n779352                                  0                                0   \n779353                                  1                                0   \n\n        Conserved_Mammal_phastCons46way.flanking.500  BivFlnk  \\\n0                                                  0        0   \n1                                                  0        0   \n2                                                  1        0   \n3                                                  1        0   \n4                                                  1        0   \n...                                              ...      ...   \n779349                                             0        0   \n779350                                             0        0   \n779351                                             0        0   \n779352                                             0        0   \n779353                                             0        0   \n\n        BivFlnk.flanking.500  \n0                          0  \n1                          0  \n2                          0  \n3                          0  \n4                          0  \n...                      ...  \n779349                     0  \n779350                     0  \n779351                     0  \n779352                     0  \n779353                     0  \n\n[779354 rows x 41 columns]"
     },
     "execution_count": 43,
     "metadata": {},
     "output_type": "execute_result"
    }
   ],
   "source": [
    "cols_to_keep=['CHR',\n",
    " 'BP',\n",
    " 'SNP',\n",
    " 'CM',\n",
    " 'base',\n",
    " 'Coding_UCSC',\n",
    " 'Coding_UCSC.flanking.500',\n",
    " 'Conserved_LindbladToh',\n",
    " 'Conserved_LindbladToh.flanking.500',\n",
    " 'CTCF_Hoffman',\n",
    " 'CTCF_Hoffman.flanking.500',\n",
    " 'DHS_peaks_Trynka',\n",
    " 'DHS_Trynka',\n",
    " 'DHS_Trynka.flanking.500',\n",
    " 'Enhancer_Hoffman',\n",
    " 'Enhancer_Hoffman.flanking.500','H3K27ac_Hnisz',\n",
    " 'H3K27ac_Hnisz.flanking.500','H3K4me1_peaks_Trynka',\n",
    " 'H3K4me1_Trynka',\n",
    " 'H3K4me1_Trynka.flanking.500',\n",
    " 'H3K4me3_peaks_Trynka',\n",
    " 'H3K4me3_Trynka',\n",
    " 'H3K4me3_Trynka.flanking.500',\n",
    " 'H3K9ac_peaks_Trynka',\n",
    " 'H3K9ac_Trynka',\n",
    " 'H3K9ac_Trynka.flanking.500',\n",
    " 'Intron_UCSC',\n",
    " 'Intron_UCSC.flanking.500',\n",
    " 'Repressed_Hoffman',\n",
    " 'Repressed_Hoffman.flanking.500',\n",
    " 'SuperEnhancer_Hnisz',\n",
    " 'SuperEnhancer_Hnisz.flanking.500',\n",
    " 'TFBS_ENCODE',\n",
    " 'TFBS_ENCODE.flanking.500',\n",
    " 'WeakEnhancer_Hoffman',\n",
    " 'WeakEnhancer_Hoffman.flanking.500',\n",
    " 'Conserved_Mammal_phastCons46way',\n",
    " 'Conserved_Mammal_phastCons46way.flanking.500','BivFlnk',\n",
    " 'BivFlnk.flanking.500'\n",
    " ]\n",
    "#len(cols_to_keep)\n",
    "#for x in cols_to_keep:\n",
    "#    print(list(Full_baseline.columns).index(x)+1)\n",
    "Subset_baseline_annot=pd.read_csv(\"/Users/xg1/Downloads/ldsc/subset36_baselineLD/baselineLD.1.annot.gz\", sep='\\t')\n",
    "Subset_baseline_annot"
   ]
  },
  {
   "cell_type": "code",
   "execution_count": 30,
   "metadata": {},
   "outputs": [
    {
     "data": {
      "text/html": "<div>\n<style scoped>\n    .dataframe tbody tr th:only-of-type {\n        vertical-align: middle;\n    }\n\n    .dataframe tbody tr th {\n        vertical-align: top;\n    }\n\n    .dataframe thead th {\n        text-align: right;\n    }\n</style>\n<table border=\"1\" class=\"dataframe\">\n  <thead>\n    <tr style=\"text-align: right;\">\n      <th></th>\n      <th>CHR</th>\n      <th>SNP</th>\n      <th>BP</th>\n      <th>baseL2</th>\n      <th>Coding_UCSCL2</th>\n      <th>Coding_UCSC.flanking.500L2</th>\n      <th>Conserved_LindbladTohL2</th>\n      <th>Conserved_LindbladToh.flanking.500L2</th>\n      <th>CTCF_HoffmanL2</th>\n      <th>CTCF_Hoffman.flanking.500L2</th>\n      <th>...</th>\n      <th>SuperEnhancer_HniszL2</th>\n      <th>SuperEnhancer_Hnisz.flanking.500L2</th>\n      <th>TFBS_ENCODEL2</th>\n      <th>TFBS_ENCODE.flanking.500L2</th>\n      <th>WeakEnhancer_HoffmanL2</th>\n      <th>WeakEnhancer_Hoffman.flanking.500L2</th>\n      <th>Conserved_Mammal_phastCons46wayL2</th>\n      <th>Conserved_Mammal_phastCons46way.flanking.500L2</th>\n      <th>BivFlnkL2</th>\n      <th>BivFlnk.flanking.500L2</th>\n    </tr>\n  </thead>\n  <tbody>\n    <tr>\n      <th>0</th>\n      <td>22</td>\n      <td>rs9617528</td>\n      <td>16061016</td>\n      <td>7.336</td>\n      <td>0.000</td>\n      <td>0.000</td>\n      <td>0.000</td>\n      <td>0.049</td>\n      <td>0.017</td>\n      <td>1.132</td>\n      <td>...</td>\n      <td>0.000</td>\n      <td>0.000</td>\n      <td>-0.001</td>\n      <td>-0.006</td>\n      <td>0.000</td>\n      <td>-0.004</td>\n      <td>0.004</td>\n      <td>0.075</td>\n      <td>0.000</td>\n      <td>0.000</td>\n    </tr>\n    <tr>\n      <th>1</th>\n      <td>22</td>\n      <td>rs4911642</td>\n      <td>16504399</td>\n      <td>62.101</td>\n      <td>0.951</td>\n      <td>0.112</td>\n      <td>0.035</td>\n      <td>0.908</td>\n      <td>0.330</td>\n      <td>1.274</td>\n      <td>...</td>\n      <td>0.140</td>\n      <td>0.001</td>\n      <td>0.657</td>\n      <td>1.294</td>\n      <td>0.005</td>\n      <td>0.161</td>\n      <td>1.082</td>\n      <td>1.519</td>\n      <td>0.082</td>\n      <td>0.124</td>\n    </tr>\n    <tr>\n      <th>2</th>\n      <td>22</td>\n      <td>rs7287144</td>\n      <td>16886873</td>\n      <td>152.659</td>\n      <td>0.040</td>\n      <td>0.087</td>\n      <td>0.219</td>\n      <td>7.742</td>\n      <td>3.154</td>\n      <td>14.665</td>\n      <td>...</td>\n      <td>0.209</td>\n      <td>0.029</td>\n      <td>6.047</td>\n      <td>11.638</td>\n      <td>0.076</td>\n      <td>1.920</td>\n      <td>0.589</td>\n      <td>14.653</td>\n      <td>0.374</td>\n      <td>1.094</td>\n    </tr>\n    <tr>\n      <th>3</th>\n      <td>22</td>\n      <td>rs5748662</td>\n      <td>16892858</td>\n      <td>130.432</td>\n      <td>0.041</td>\n      <td>0.081</td>\n      <td>0.183</td>\n      <td>6.689</td>\n      <td>2.628</td>\n      <td>12.756</td>\n      <td>...</td>\n      <td>0.116</td>\n      <td>0.018</td>\n      <td>5.004</td>\n      <td>9.752</td>\n      <td>0.075</td>\n      <td>1.721</td>\n      <td>0.533</td>\n      <td>12.682</td>\n      <td>0.310</td>\n      <td>0.958</td>\n    </tr>\n    <tr>\n      <th>4</th>\n      <td>22</td>\n      <td>rs5994034</td>\n      <td>16894090</td>\n      <td>50.683</td>\n      <td>0.025</td>\n      <td>0.219</td>\n      <td>0.043</td>\n      <td>3.836</td>\n      <td>1.940</td>\n      <td>4.231</td>\n      <td>...</td>\n      <td>0.527</td>\n      <td>0.056</td>\n      <td>2.785</td>\n      <td>2.740</td>\n      <td>0.131</td>\n      <td>0.165</td>\n      <td>0.280</td>\n      <td>6.042</td>\n      <td>0.214</td>\n      <td>0.404</td>\n    </tr>\n    <tr>\n      <th>...</th>\n      <td>...</td>\n      <td>...</td>\n      <td>...</td>\n      <td>...</td>\n      <td>...</td>\n      <td>...</td>\n      <td>...</td>\n      <td>...</td>\n      <td>...</td>\n      <td>...</td>\n      <td>...</td>\n      <td>...</td>\n      <td>...</td>\n      <td>...</td>\n      <td>...</td>\n      <td>...</td>\n      <td>...</td>\n      <td>...</td>\n      <td>...</td>\n      <td>...</td>\n      <td>...</td>\n    </tr>\n    <tr>\n      <th>17484</th>\n      <td>22</td>\n      <td>rs13056621</td>\n      <td>51181759</td>\n      <td>21.202</td>\n      <td>1.130</td>\n      <td>3.962</td>\n      <td>0.613</td>\n      <td>4.707</td>\n      <td>1.425</td>\n      <td>1.952</td>\n      <td>...</td>\n      <td>8.282</td>\n      <td>0.047</td>\n      <td>4.355</td>\n      <td>4.270</td>\n      <td>0.277</td>\n      <td>2.048</td>\n      <td>0.607</td>\n      <td>5.596</td>\n      <td>1.720</td>\n      <td>2.486</td>\n    </tr>\n    <tr>\n      <th>17485</th>\n      <td>22</td>\n      <td>rs3865766</td>\n      <td>51186228</td>\n      <td>53.753</td>\n      <td>2.574</td>\n      <td>8.992</td>\n      <td>0.668</td>\n      <td>11.365</td>\n      <td>1.582</td>\n      <td>5.186</td>\n      <td>...</td>\n      <td>12.061</td>\n      <td>0.097</td>\n      <td>6.609</td>\n      <td>8.605</td>\n      <td>0.463</td>\n      <td>4.204</td>\n      <td>0.877</td>\n      <td>11.767</td>\n      <td>2.083</td>\n      <td>3.756</td>\n    </tr>\n    <tr>\n      <th>17486</th>\n      <td>22</td>\n      <td>rs3888396</td>\n      <td>51211392</td>\n      <td>25.534</td>\n      <td>1.082</td>\n      <td>4.624</td>\n      <td>0.490</td>\n      <td>5.231</td>\n      <td>0.688</td>\n      <td>3.069</td>\n      <td>...</td>\n      <td>4.021</td>\n      <td>0.041</td>\n      <td>3.137</td>\n      <td>4.154</td>\n      <td>1.421</td>\n      <td>2.207</td>\n      <td>0.384</td>\n      <td>5.301</td>\n      <td>1.079</td>\n      <td>1.474</td>\n    </tr>\n    <tr>\n      <th>17487</th>\n      <td>22</td>\n      <td>rs2238837</td>\n      <td>51212875</td>\n      <td>42.265</td>\n      <td>2.677</td>\n      <td>6.184</td>\n      <td>0.437</td>\n      <td>8.493</td>\n      <td>0.936</td>\n      <td>3.294</td>\n      <td>...</td>\n      <td>9.023</td>\n      <td>0.045</td>\n      <td>4.561</td>\n      <td>6.306</td>\n      <td>0.280</td>\n      <td>3.048</td>\n      <td>0.655</td>\n      <td>8.143</td>\n      <td>1.526</td>\n      <td>2.506</td>\n    </tr>\n    <tr>\n      <th>17488</th>\n      <td>22</td>\n      <td>rs28729663</td>\n      <td>51219006</td>\n      <td>48.435</td>\n      <td>1.338</td>\n      <td>11.701</td>\n      <td>0.449</td>\n      <td>12.490</td>\n      <td>2.292</td>\n      <td>5.139</td>\n      <td>...</td>\n      <td>8.294</td>\n      <td>0.101</td>\n      <td>6.511</td>\n      <td>6.992</td>\n      <td>0.424</td>\n      <td>2.919</td>\n      <td>1.000</td>\n      <td>12.885</td>\n      <td>1.697</td>\n      <td>2.774</td>\n    </tr>\n  </tbody>\n</table>\n<p>17489 rows × 40 columns</p>\n</div>",
      "text/plain": "       CHR         SNP        BP   baseL2  Coding_UCSCL2  \\\n0       22   rs9617528  16061016    7.336          0.000   \n1       22   rs4911642  16504399   62.101          0.951   \n2       22   rs7287144  16886873  152.659          0.040   \n3       22   rs5748662  16892858  130.432          0.041   \n4       22   rs5994034  16894090   50.683          0.025   \n...    ...         ...       ...      ...            ...   \n17484   22  rs13056621  51181759   21.202          1.130   \n17485   22   rs3865766  51186228   53.753          2.574   \n17486   22   rs3888396  51211392   25.534          1.082   \n17487   22   rs2238837  51212875   42.265          2.677   \n17488   22  rs28729663  51219006   48.435          1.338   \n\n       Coding_UCSC.flanking.500L2  Conserved_LindbladTohL2  \\\n0                           0.000                    0.000   \n1                           0.112                    0.035   \n2                           0.087                    0.219   \n3                           0.081                    0.183   \n4                           0.219                    0.043   \n...                           ...                      ...   \n17484                       3.962                    0.613   \n17485                       8.992                    0.668   \n17486                       4.624                    0.490   \n17487                       6.184                    0.437   \n17488                      11.701                    0.449   \n\n       Conserved_LindbladToh.flanking.500L2  CTCF_HoffmanL2  \\\n0                                     0.049           0.017   \n1                                     0.908           0.330   \n2                                     7.742           3.154   \n3                                     6.689           2.628   \n4                                     3.836           1.940   \n...                                     ...             ...   \n17484                                 4.707           1.425   \n17485                                11.365           1.582   \n17486                                 5.231           0.688   \n17487                                 8.493           0.936   \n17488                                12.490           2.292   \n\n       CTCF_Hoffman.flanking.500L2  ...  SuperEnhancer_HniszL2  \\\n0                            1.132  ...                  0.000   \n1                            1.274  ...                  0.140   \n2                           14.665  ...                  0.209   \n3                           12.756  ...                  0.116   \n4                            4.231  ...                  0.527   \n...                            ...  ...                    ...   \n17484                        1.952  ...                  8.282   \n17485                        5.186  ...                 12.061   \n17486                        3.069  ...                  4.021   \n17487                        3.294  ...                  9.023   \n17488                        5.139  ...                  8.294   \n\n       SuperEnhancer_Hnisz.flanking.500L2  TFBS_ENCODEL2  \\\n0                                   0.000         -0.001   \n1                                   0.001          0.657   \n2                                   0.029          6.047   \n3                                   0.018          5.004   \n4                                   0.056          2.785   \n...                                   ...            ...   \n17484                               0.047          4.355   \n17485                               0.097          6.609   \n17486                               0.041          3.137   \n17487                               0.045          4.561   \n17488                               0.101          6.511   \n\n       TFBS_ENCODE.flanking.500L2  WeakEnhancer_HoffmanL2  \\\n0                          -0.006                   0.000   \n1                           1.294                   0.005   \n2                          11.638                   0.076   \n3                           9.752                   0.075   \n4                           2.740                   0.131   \n...                           ...                     ...   \n17484                       4.270                   0.277   \n17485                       8.605                   0.463   \n17486                       4.154                   1.421   \n17487                       6.306                   0.280   \n17488                       6.992                   0.424   \n\n       WeakEnhancer_Hoffman.flanking.500L2  Conserved_Mammal_phastCons46wayL2  \\\n0                                   -0.004                              0.004   \n1                                    0.161                              1.082   \n2                                    1.920                              0.589   \n3                                    1.721                              0.533   \n4                                    0.165                              0.280   \n...                                    ...                                ...   \n17484                                2.048                              0.607   \n17485                                4.204                              0.877   \n17486                                2.207                              0.384   \n17487                                3.048                              0.655   \n17488                                2.919                              1.000   \n\n       Conserved_Mammal_phastCons46way.flanking.500L2  BivFlnkL2  \\\n0                                               0.075      0.000   \n1                                               1.519      0.082   \n2                                              14.653      0.374   \n3                                              12.682      0.310   \n4                                               6.042      0.214   \n...                                               ...        ...   \n17484                                           5.596      1.720   \n17485                                          11.767      2.083   \n17486                                           5.301      1.079   \n17487                                           8.143      1.526   \n17488                                          12.885      1.697   \n\n       BivFlnk.flanking.500L2  \n0                       0.000  \n1                       0.124  \n2                       1.094  \n3                       0.958  \n4                       0.404  \n...                       ...  \n17484                   2.486  \n17485                   3.756  \n17486                   1.474  \n17487                   2.506  \n17488                   2.774  \n\n[17489 rows x 40 columns]"
     },
     "execution_count": 30,
     "metadata": {},
     "output_type": "execute_result"
    }
   ],
   "source": [
    "Subset_baseline=pd.read_csv(\"/Users/xg1/Downloads/ldsc/subset36_baselineLD/baselineLD.22.l2.ldscore.gz\", sep='\\t')\n",
    "Subset_baseline"
   ]
  },
  {
   "cell_type": "code",
   "execution_count": 29,
   "metadata": {},
   "outputs": [
    {
     "name": "stdout",
     "output_type": "stream",
     "text": [
      "1\n",
      "3\n",
      "2\n",
      "4\n",
      "5\n",
      "6\n",
      "7\n",
      "8\n",
      "9\n",
      "10\n",
      "13\n",
      "14\n",
      "15\n",
      "18\n",
      "19\n",
      "22\n",
      "23\n",
      "26\n",
      "27\n",
      "28\n",
      "29\n",
      "30\n",
      "31\n",
      "32\n",
      "33\n",
      "34\n",
      "35\n",
      "36\n",
      "41\n",
      "42\n",
      "43\n",
      "44\n",
      "45\n",
      "46\n",
      "55\n",
      "56\n",
      "84\n",
      "85\n",
      "88\n",
      "89\n"
     ]
    }
   ],
   "source": [
    "Full_baseline_L2=pd.read_csv(\"/Users/xg1/Downloads/ldsc/baselineLD/baselineLD.22.l2.ldscore.gz\", sep='\\t')\n",
    "cols_to_keep=['CHR',\n",
    " 'BP',\n",
    " 'SNP',\n",
    " 'baseL2',\n",
    " 'Coding_UCSCL2',\n",
    " 'Coding_UCSC.flanking.500L2',\n",
    " 'Conserved_LindbladTohL2',\n",
    " 'Conserved_LindbladToh.flanking.500L2',\n",
    " 'CTCF_HoffmanL2',\n",
    " 'CTCF_Hoffman.flanking.500L2',\n",
    " 'DHS_peaks_TrynkaL2',\n",
    " 'DHS_TrynkaL2',\n",
    " 'DHS_Trynka.flanking.500L2',\n",
    " 'Enhancer_HoffmanL2',\n",
    " 'Enhancer_Hoffman.flanking.500L2','H3K27ac_HniszL2',\n",
    " 'H3K27ac_Hnisz.flanking.500L2','H3K4me1_peaks_TrynkaL2',\n",
    " 'H3K4me1_TrynkaL2',\n",
    " 'H3K4me1_Trynka.flanking.500L2',\n",
    " 'H3K4me3_peaks_TrynkaL2',\n",
    " 'H3K4me3_TrynkaL2',\n",
    " 'H3K4me3_Trynka.flanking.500L2',\n",
    " 'H3K9ac_peaks_TrynkaL2',\n",
    " 'H3K9ac_TrynkaL2',\n",
    " 'H3K9ac_Trynka.flanking.500L2',\n",
    " 'Intron_UCSCL2',\n",
    " 'Intron_UCSC.flanking.500L2',\n",
    " 'Repressed_HoffmanL2',\n",
    " 'Repressed_Hoffman.flanking.500L2',\n",
    " 'SuperEnhancer_HniszL2',\n",
    " 'SuperEnhancer_Hnisz.flanking.500L2',\n",
    " 'TFBS_ENCODEL2',\n",
    " 'TFBS_ENCODE.flanking.500L2',\n",
    " 'WeakEnhancer_HoffmanL2',\n",
    " 'WeakEnhancer_Hoffman.flanking.500L2',\n",
    " 'Conserved_Mammal_phastCons46wayL2',\n",
    " 'Conserved_Mammal_phastCons46way.flanking.500L2','BivFlnkL2',\n",
    " 'BivFlnk.flanking.500L2'\n",
    " ]\n",
    "for x in cols_to_keep:\n",
    "    print(list(Full_baseline_L2.columns).index(x)+1)"
   ]
  },
  {
   "cell_type": "code",
   "execution_count": 17,
   "metadata": {},
   "outputs": [
    {
     "data": {
      "text/html": "<div>\n<style scoped>\n    .dataframe tbody tr th:only-of-type {\n        vertical-align: middle;\n    }\n\n    .dataframe tbody tr th {\n        vertical-align: top;\n    }\n\n    .dataframe thead th {\n        text-align: right;\n    }\n</style>\n<table border=\"1\" class=\"dataframe\">\n  <thead>\n    <tr style=\"text-align: right;\">\n      <th></th>\n      <th>83323.0</th>\n      <th>2185.0</th>\n      <th>7115.0</th>\n      <th>1800.0</th>\n      <th>25826.0</th>\n      <th>3165.0</th>\n      <th>6538.0</th>\n      <th>15260.0</th>\n      <th>39498.0</th>\n      <th>11036.0</th>\n      <th>...</th>\n      <th>633.0</th>\n      <th>4428.0</th>\n      <th>1563.0</th>\n      <th>642.0</th>\n      <th>849.0</th>\n      <th>537.0</th>\n      <th>1151.0</th>\n      <th>7881.0</th>\n      <th>357.0</th>\n      <th>83.0</th>\n    </tr>\n  </thead>\n  <tbody>\n  </tbody>\n</table>\n<p>0 rows × 97 columns</p>\n</div>",
      "text/plain": "Empty DataFrame\nColumns: [83323.0, 2185.0, 7115.0, 1800.0, 25826.0, 3165.0, 6538.0, 15260.0, 39498.0, 11036.0, 16126.0, 31071.0, 535.0, 1819.0, 4943.0, 6069.0, 8976.0, 21018.0, 48707.0, 2673.0, 32958.0, 7552.0, 20625.0, 48244.0, 14844.0, 5043.0, 16297.0, 13753.0, 6792.0, 20751.0, 15690.0, 37282.0, 1609.0, 929.0, 3036.0, 7572.0, 1705.0, 24869.0, 17665.0, 25177.0, 504.0, 17205.0, 21718.0, 34811.0, 23544.0, 2931.0, 2842.0, 1973.0, 3209.0, 905.0, 3450.0, 3160.0, 9414.0, 113049.8265, 304.0, 8891.0, 8402.0, 8009.0, 8097.0, 7821.0, 8425.0, 8199.0, 8901.0, 7965.0, 8613.0, -4203.93221307, -35189.669949, 219052.088733, 420711.579527, 14345.496, 1420.64847411, 7635.55338712, 1511.228654, 2410.451149, 1642.524741, 3644.639408, 453.0, 395.0, 2549.0, 30382.0, 1356.0, 25054.0, 1120.0, 12221.0, 2176.0, 3483.0, 2579.0, 633.0, 4428.0, 1563.0, 642.0, 849.0, 537.0, 1151.0, 7881.0, 357.0, 83.0]\nIndex: []\n\n[0 rows x 97 columns]"
     },
     "execution_count": 17,
     "metadata": {},
     "output_type": "execute_result"
    }
   ],
   "source": [
    "Full_baseline_M2=pd.read_csv(\"/Users/xg1/Downloads/ldsc/baselineLD/baselineLD.22.l2.M_5_50\", sep='\\t')\n",
    "#list(Full_baseline_M2.columns)\n",
    "Full_baseline_M2\n"
   ]
  },
  {
   "cell_type": "code",
   "execution_count": 18,
   "metadata": {},
   "outputs": [
    {
     "name": "stdout",
     "output_type": "stream",
     "text": [
      "-3\n",
      "-2\n",
      "-1\n",
      "0\n",
      "1\n",
      "2\n",
      "3\n",
      "4\n",
      "5\n",
      "6\n",
      "7\n",
      "10\n",
      "11\n",
      "12\n",
      "15\n",
      "16\n",
      "19\n",
      "20\n",
      "23\n",
      "24\n",
      "25\n",
      "26\n",
      "27\n",
      "28\n",
      "29\n",
      "30\n",
      "31\n",
      "32\n",
      "33\n",
      "38\n",
      "39\n",
      "40\n",
      "41\n",
      "42\n",
      "43\n",
      "52\n",
      "53\n",
      "81\n",
      "82\n",
      "85\n",
      "86\n"
     ]
    }
   ],
   "source": [
    "for x in cols_to_keep:\n",
    "    print(list(Full_baseline.columns).index(x)-3)"
   ]
  },
  {
   "cell_type": "code",
   "execution_count": 32,
   "metadata": {},
   "outputs": [
    {
     "data": {
      "text/html": "<div>\n<style scoped>\n    .dataframe tbody tr th:only-of-type {\n        vertical-align: middle;\n    }\n\n    .dataframe tbody tr th {\n        vertical-align: top;\n    }\n\n    .dataframe thead th {\n        text-align: right;\n    }\n</style>\n<table border=\"1\" class=\"dataframe\">\n  <thead>\n    <tr style=\"text-align: right;\">\n      <th></th>\n      <th>83323.0</th>\n      <th>2185.0</th>\n      <th>7115.0</th>\n      <th>1800.0</th>\n      <th>25826.0</th>\n      <th>3165.0</th>\n      <th>6538.0</th>\n      <th>11036.0</th>\n      <th>16126.0</th>\n      <th>31071.0</th>\n      <th>...</th>\n      <th>25177.0</th>\n      <th>504.0</th>\n      <th>17205.0</th>\n      <th>21718.0</th>\n      <th>3160.0</th>\n      <th>9414.0</th>\n      <th>1356.0</th>\n      <th>25054.0</th>\n      <th>2176.0</th>\n      <th>3483.0</th>\n    </tr>\n  </thead>\n  <tbody>\n  </tbody>\n</table>\n<p>0 rows × 37 columns</p>\n</div>",
      "text/plain": "Empty DataFrame\nColumns: [83323.0, 2185.0, 7115.0, 1800.0, 25826.0, 3165.0, 6538.0, 11036.0, 16126.0, 31071.0, 4943.0, 6069.0, 48707.0, 2673.0, 20625.0, 48244.0, 14844.0, 5043.0, 16297.0, 13753.0, 6792.0, 20751.0, 15690.0, 37282.0, 1609.0, 24869.0, 17665.0, 25177.0, 504.0, 17205.0, 21718.0, 3160.0, 9414.0, 1356.0, 25054.0, 2176.0, 3483.0]\nIndex: []\n\n[0 rows x 37 columns]"
     },
     "execution_count": 32,
     "metadata": {},
     "output_type": "execute_result"
    }
   ],
   "source": [
    "subset_M=pd.read_csv(\"/Users/xg1/Downloads/ldsc/subset36_baselineLD/baselineLD.22.l2.M_5_50\", sep='\\t')\n",
    "subset_M"
   ]
  }
 ],
 "metadata": {
  "kernelspec": {
   "display_name": "Python 3.8.5 64-bit ('base': conda)",
   "name": "python385jvsc74a57bd0618a6e8c6a500db14a27b1883727eb6930466eacacee4b4e1d8748609a86c0d2"
  },
  "language_info": {
   "codemirror_mode": {
    "name": "ipython",
    "version": 3
   },
   "file_extension": ".py",
   "mimetype": "text/x-python",
   "name": "python",
   "nbconvert_exporter": "python",
   "pygments_lexer": "ipython3",
   "version": "3.8.5"
  },
  "orig_nbformat": 2
 },
 "nbformat": 4,
 "nbformat_minor": 2
}